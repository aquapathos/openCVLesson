{
  "nbformat": 4,
  "nbformat_minor": 0,
  "metadata": {
    "colab": {
      "name": "モード法と部分画像分割法.ipynb",
      "provenance": [],
      "authorship_tag": "ABX9TyM7mfKYOyHpw6ZCWeYkH8J0",
      "include_colab_link": true
    },
    "kernelspec": {
      "name": "python3",
      "display_name": "Python 3"
    }
  },
  "cells": [
    {
      "cell_type": "markdown",
      "metadata": {
        "id": "view-in-github",
        "colab_type": "text"
      },
      "source": [
        "<a href=\"https://colab.research.google.com/github/aquapathos/openCVLesson/blob/master/IP/%E3%83%A2%E3%83%BC%E3%83%89%E6%B3%95%E3%81%A8%E9%83%A8%E5%88%86%E7%94%BB%E5%83%8F%E5%88%86%E5%89%B2%E6%B3%95.ipynb\" target=\"_parent\"><img src=\"https://colab.research.google.com/assets/colab-badge.svg\" alt=\"Open In Colab\"/></a>"
      ]
    },
    {
      "cell_type": "code",
      "metadata": {
        "id": "9xxgGC-UB65z",
        "colab_type": "code",
        "colab": {}
      },
      "source": [
        "import urllib\n",
        "import cv2\n",
        "import numpy as np\n",
        "from google.colab.patches import cv2_imshow\n",
        "from matplotlib import pyplot as plt\n",
        "from matplotlib import pylab\n",
        "from google.colab import widgets\n",
        "import warnings\n",
        "import matplotlib\n",
        "warnings.filterwarnings('ignore', category=matplotlib.MatplotlibDeprecationWarning)"
      ],
      "execution_count": 0,
      "outputs": []
    },
    {
      "cell_type": "markdown",
      "metadata": {
        "id": "O2LT8-v2OVjt",
        "colab_type": "text"
      },
      "source": [
        "# １．モード法による画像の２階調化"
      ]
    },
    {
      "cell_type": "code",
      "metadata": {
        "id": "gsZN7lvv4J6k",
        "colab_type": "code",
        "colab": {}
      },
      "source": [
        "# pict01 とそのヒストグラムの表示\n",
        "\n",
        "url1 = \"https://monosnap.com/image/VcgFAtIa6RFIgg6VEqLuqIH8RL2IaI\" # pict01 画像URL\n",
        "\n",
        "img_path, header = urllib.request.urlretrieve(url1)\n",
        "img1 = cv2.imread(img_path,0) #  画像の読み込み\n",
        "cv2_imshow(img1) #\n",
        "print(\"図１　処理対象画像 pict01\")\n",
        "cv2.imwrite(\"pict01.png\",img1)\n",
        "  \n",
        "hist1 = cv2.calcHist([img1],[0],None,[256],[0,256])\n",
        "plt.hist(img1.ravel(),256,[0,256]); plt.show()\n",
        "print(\"図２　pict01 の濃度ヒストグラム\")"
      ],
      "execution_count": 0,
      "outputs": []
    },
    {
      "cell_type": "markdown",
      "metadata": {
        "id": "GVE8lJ1HHGZ0",
        "colab_type": "text"
      },
      "source": [
        "## 課題1　\n",
        "\n",
        "pict01 のヒストグラムをもとに、モード法によりしきい値を決め、２階調化しなさい。"
      ]
    },
    {
      "cell_type": "code",
      "metadata": {
        "id": "e9YFXVAsHaxo",
        "colab_type": "code",
        "colab": {}
      },
      "source": [
        "しきい値 = 191 #@param {type:\"slider\", min:0, max:255, step:1}\n",
        "ret,bwimg1 = cv2.threshold(img1,しきい値,255,cv2.THRESH_BINARY)\n",
        "cv2_imshow(bwimg1) #\n",
        "print(\"          図３     ２階調化画像　　しきい値{}\\n\".format(しきい値))\n",
        "cv2.imwrite(\"pict01BIN.png\",bwimg1);\n"
      ],
      "execution_count": 0,
      "outputs": []
    },
    {
      "cell_type": "markdown",
      "metadata": {
        "id": "PoSMJA4XOy5X",
        "colab_type": "text"
      },
      "source": [
        "#２.　ヒストグラムが双峰ではない画像の２階調化"
      ]
    },
    {
      "cell_type": "code",
      "metadata": {
        "id": "g1VMcu8BIX-k",
        "colab_type": "code",
        "colab": {}
      },
      "source": [
        "# pict02 とそのヒストグラムの表示\n",
        "\n",
        "url2 = \"https://monosnap.com/image/NLCngPegjHp6RdYqSUyPiTLTGW1pPa\" # pict02 画像URL\n",
        "\n",
        "img_path, header = urllib.request.urlretrieve(url2)\n",
        "img2 = cv2.imread(img_path,0) #  画像の読み込み\n",
        "cv2_imshow(img2) #\n",
        "print(\"図４　処理対象画像 pict02\")\n",
        "cv2.imwrite(\"pict02.png\",img2)\n",
        "  \n",
        "hist2 = cv2.calcHist([img2],[0],None,[256],[0,256])\n",
        "plt.hist(img2.ravel(),256,[0,256]); plt.show()\n",
        "print(\"図５　pict02 の濃度ヒストグラム\")"
      ],
      "execution_count": 0,
      "outputs": []
    },
    {
      "cell_type": "markdown",
      "metadata": {
        "id": "tynIZohbL54f",
        "colab_type": "text"
      },
      "source": [
        "\n",
        "\n",
        "　pict02のヒストグラムは双峰ではなく、３つ以上の山が見られる。\n",
        "\n",
        "　このように山が複数あっても、例えば、右の二つの山が、明るさは異なるが、どちらも背景色であり、文字がその暗い方よりもさらに暗いのであれば、右から2つ目の谷の濃度をしきい値に選んでやることで、文字は黒、背景は白に2階調化できる可能性はある。\n",
        "\n",
        "## 課題２-1 \n",
        "pict02 のヒストグラムには４つの山がある。谷の部分３か所の濃度を読み取り、次のプログラムで、それらの値をしきい値にセットして、２階調化した画像を作りなさい。\n",
        "\n",
        "そして、得られた結果が、どのような結果となったか、それはなぜなのかをそれぞれ考察し、説明しなさい。\n"
      ]
    },
    {
      "cell_type": "code",
      "metadata": {
        "id": "794bRlOGKxaH",
        "colab_type": "code",
        "colab": {}
      },
      "source": [
        "#@title Number fields\n",
        "しきい値１ = 100 #@param {type:\"slider\", min:0, max:255, step:1}\n",
        "しきい値２ = 153 #@param {type:\"slider\", min:0, max:255, step:1}\n",
        "しきい値３ = 226 #@param {type:\"slider\", min:0, max:255, step:1}\n",
        "ths=[しきい値１,しきい値2,しきい値3]\n",
        "  \n",
        "for i in range(3):\n",
        "    ret,bwimg2 = cv2.threshold(img2,ths[i],255,cv2.THRESH_BINARY)\n",
        "    cv2_imshow(bwimg2) #\n",
        "    print(\"          図{} pict02の２階調化画像　　しきい値{}\\n\".format(i+6,ths[i]))"
      ],
      "execution_count": 0,
      "outputs": []
    },
    {
      "cell_type": "markdown",
      "metadata": {
        "id": "x7AwfWl1SWxA",
        "colab_type": "text"
      },
      "source": [
        "## 課題３　\n",
        "pict02 から文字の掠れや黒つぶれのないきれいな２値画像を得るためには、授業で習ったどの手法が使えるか、その手法はどういう手法で、なぜその方法ならば pict02 がうまく処理できるのかを述べよ。\n",
        "\n",
        "\n",
        "----\n",
        "\n",
        "----\n",
        "\n",
        "\n",
        "# 発展　\n",
        "\n",
        "以下は課題ではないが、実行してみよ。\n",
        "\n",
        "## 移動平均法による２階調化"
      ]
    },
    {
      "cell_type": "code",
      "metadata": {
        "id": "3VGVxzy6LDEQ",
        "colab_type": "code",
        "colab": {}
      },
      "source": [
        "#@title Number fields\n",
        "offset = 13 #@param {type:\"slider\", min:-30, max:20, step:1}\n",
        "ksize = 31 #@param {type:\"slider\", min:3, max:40, step:2}\n",
        "th3 = cv2.adaptiveThreshold(img2,255,cv2.ADAPTIVE_THRESH_GAUSSIAN_C,\\\n",
        "            cv2.THRESH_BINARY,ksize,offset)\n",
        "cv2_imshow(th3) #\n",
        "print(\"          図９     移動平均法の結果　\")"
      ],
      "execution_count": 0,
      "outputs": []
    },
    {
      "cell_type": "markdown",
      "metadata": {
        "id": "uQXoIgPcU6f2",
        "colab_type": "text"
      },
      "source": [
        "# 自動　部分画像分割法\n",
        "\n",
        "[GrabCut](http://labs.eecs.tottori-u.ac.jp/sd/Member/oyamada/OpenCV/html/py_tutorials/py_core/py_image_arithmetics/py_image_arithmetics.html#id5) を応用して自動的に左右分割を行う\n"
      ]
    },
    {
      "cell_type": "code",
      "metadata": {
        "id": "_hQYYDxzTo77",
        "colab_type": "code",
        "colab": {}
      },
      "source": [
        "img = cv2.imread(img_path,1)\n",
        "cv2_imshow(img)\n",
        "print('図10　入力画像（再掲）')\n",
        "\n",
        "#grubCutによる自動画像分割\n",
        "mask = np.zeros(img.shape[:2],np.uint8)\n",
        "\n",
        "bgdModel = np.zeros((1,65),np.float64)\n",
        "fgdModel = np.zeros((1,65),np.float64)\n",
        "\n",
        "rect = (0,0,400,300)  # 左領域が内部に含まれるように矩形指定　左右境界を指定している訳ではないことに注意\n",
        "cv2.grabCut(img,mask,rect,bgdModel,fgdModel,5,cv2.GC_INIT_WITH_RECT)\n",
        "\n",
        "mask2 = np.where((mask==2)|(mask==0),0,1).astype('uint8')\n",
        "cv2_imshow(mask2*255)\n",
        "print('図11　自動生成された分割用マスク')\n",
        "\n",
        "# 左右の画像　領域外は黒\n",
        "imgL = img*mask2[:,:,np.newaxis]\n",
        "imgR = img*(1-mask2[:,:,np.newaxis])\n",
        "\n",
        "# 左右それぞれの画像のヒストグラム生成\n",
        "histL = cv2.calcHist([imgL],[0],None,[256],[0,256])\n",
        "# どちらも対象外領域である黒以外の最大画素数のレベル（背景色）を取り出す。\n",
        "majorL = np.argmax(histL[1:])-1\n",
        "histR = cv2.calcHist([imgR],[0],None,[256],[0,256])\n",
        "majorR = np.argmax(histR[1:])-1\n",
        "\n",
        "oneimg = np.ones((mask2.shape[0],mask2.shape[1],3),np.uint8) # 明るさ１の画像\n",
        "baseL = majorL*oneimg*(1-mask2[:,:,np.newaxis]) # 左画像の右を左の背景色で塗る\n",
        "baseR = majorR*oneimg*mask2[:,:,np.newaxis] # 右画像の左を右の背景色で塗る\n",
        "imgL = cv2.add(imgL,baseL)\n",
        "imgR = cv2.add(imgR,baseR)\n",
        "\n",
        "cv2_imshow(imgL)\n",
        "print('図12　左部分画像')\n",
        "cv2_imshow(imgR)\n",
        "print('図13　右部分画像')"
      ],
      "execution_count": 0,
      "outputs": []
    },
    {
      "cell_type": "code",
      "metadata": {
        "id": "H5HseMQnVV6n",
        "colab_type": "code",
        "colab": {}
      },
      "source": [
        "# OTSUの方法により、左右それぞれの最適しきい値を求める\n",
        "retL,binL = cv2.threshold(cv2.cvtColor(imgL,cv2.COLOR_BGR2GRAY),0,255,cv2.THRESH_OTSU)\n",
        "cv2_imshow(binL)\n",
        "print('図14　左画像を判別分析法で２階調化　　左のしきい値',retL)\n",
        "retR,binR = cv2.threshold(cv2.cvtColor(imgR,cv2.COLOR_BGR2GRAY),0,255,cv2.THRESH_OTSU)\n",
        "cv2_imshow(binR)\n",
        "print('図15　右画像を判別分析法で２階調化　　右のしきい値',retR)\n",
        "cv2_imshow(cv2.min(binL,binR))\n",
        "print('図16　　結果の合成')"
      ],
      "execution_count": 0,
      "outputs": []
    },
    {
      "cell_type": "markdown",
      "metadata": {
        "id": "t4fQu4I6Vjec",
        "colab_type": "text"
      },
      "source": [
        "# pict03 もっと難しい画像にチャレンジ¶\n"
      ]
    },
    {
      "cell_type": "code",
      "metadata": {
        "id": "IfDXcJTLVer-",
        "colab_type": "code",
        "colab": {}
      },
      "source": [
        "url3 = \"https://monosnap.com/image/Z2p7IYz0mfZUHfI2SJE5zVIZyHJt0I\" # 画像URL\n",
        "img_path, header = urllib.request.urlretrieve(url3)\n",
        "img3 = cv2.imread(img_path,0) #  画像の読み込み\n",
        "cv2_imshow(img3) #\n",
        "print(\"図17  処理対象画像 pict03\")\n",
        "cv2.imwrite(\"入力画像.png\",img3)\n",
        "  \n",
        "hist3 = cv2.calcHist([img3],[0],None,[256],[0,256])\n",
        "plt.hist(img3.ravel(),256,[0,256]); plt.show()\n",
        "print(\"図18　pict03 の　ヒストグラム\")"
      ],
      "execution_count": 0,
      "outputs": []
    },
    {
      "cell_type": "code",
      "metadata": {
        "id": "CvdaS0rOV27q",
        "colab_type": "code",
        "colab": {}
      },
      "source": [
        "#@title Number fields\n",
        "offset = 14 #@param {type:\"slider\", min:-30, max:20, step:1}\n",
        "ksize = 27 #@param {type:\"slider\", min:3, max:40, step:2}\n",
        "th3 = cv2.adaptiveThreshold(img3,255,cv2.ADAPTIVE_THRESH_GAUSSIAN_C,\\\n",
        "            cv2.THRESH_BINARY,ksize,offset)\n",
        "cv2_imshow(th3) #\n",
        "print(\"          図19     移動平均法の結果　\")"
      ],
      "execution_count": 0,
      "outputs": []
    },
    {
      "cell_type": "code",
      "metadata": {
        "id": "nEznkiuHWBch",
        "colab_type": "code",
        "colab": {}
      },
      "source": [
        "img3 = cv2.imread(img_path,1)\n",
        "cv2_imshow(img3)\n",
        "print('図20　入力画像　pict03 （再掲）')\n",
        "\n",
        "#grubCutによる自動画像分割\n",
        "mask = np.zeros(img3.shape[:2],np.uint8)\n",
        "\n",
        "bgdModel = np.zeros((1,65),np.float64)\n",
        "fgdModel = np.zeros((1,65),np.float64)\n",
        "\n",
        "rect = (0,0,500,650)  # 左領域が内部に含まれるように矩形指定　左右境界を指定している訳ではないことに注意\n",
        "cv2.grabCut(img3,mask,rect,bgdModel,fgdModel,5,cv2.GC_INIT_WITH_RECT)\n",
        "\n",
        "mask2 = np.where((mask==2)|(mask==0),0,1).astype('uint8')\n",
        "cv2_imshow(mask2*255)\n",
        "print('図21　自動生成された分割用マスク')\n",
        "\n",
        "# 左右の画像　領域外は黒\n",
        "imgL = img3*mask2[:,:,np.newaxis]\n",
        "imgR = img3*(1-mask2[:,:,np.newaxis])\n",
        "\n",
        "# 左右それぞれの画像のヒストグラム生成\n",
        "histL = cv2.calcHist([imgL],[0],None,[256],[0,256])\n",
        "# どちらも対象外領域である黒以外の最大画素数のレベル（背景色）を取り出す。\n",
        "majorL = np.argmax(histL[1:])-1\n",
        "histR = cv2.calcHist([imgR],[0],None,[256],[0,256])\n",
        "majorR = np.argmax(histR[1:])-1\n",
        "\n",
        "oneimg = np.ones((mask2.shape[0],mask2.shape[1],3),np.uint8) # 明るさ１の画像\n",
        "baseL = majorL*oneimg*(1-mask2[:,:,np.newaxis]) # 左画像の右を左の背景色で塗る\n",
        "baseR = majorR*oneimg*mask2[:,:,np.newaxis] # 右画像の左を右の背景色で塗る\n",
        "imgL = cv2.add(imgL,baseL)\n",
        "imgR = cv2.add(imgR,baseR)\n",
        "\n",
        "cv2_imshow(imgL)\n",
        "print('図22　左部分画像')\n",
        "cv2_imshow(imgR)\n",
        "print('図23　右部分画像')"
      ],
      "execution_count": 0,
      "outputs": []
    },
    {
      "cell_type": "code",
      "metadata": {
        "id": "BtwaPs_SWh9j",
        "colab_type": "code",
        "colab": {}
      },
      "source": [
        "# OTSUの方法によ理、左右それぞれの最適しきい値を求める\n",
        "retL,binL = cv2.threshold(cv2.cvtColor(imgL,cv2.COLOR_BGR2GRAY),0,255,cv2.THRESH_OTSU)\n",
        "cv2_imshow(binL)\n",
        "print('図24　左画像を判別分析法で２階調化　　左のしきい値',retL)\n",
        "retR,binR = cv2.threshold(cv2.cvtColor(imgR,cv2.COLOR_BGR2GRAY),0,255,cv2.THRESH_OTSU)\n",
        "cv2_imshow(binR)\n",
        "print('図25　右画像を判別分析法で２階調化　　右のしきい値',retR)\n",
        "cv2_imshow(cv2.min(binL,binR))\n",
        "print('図26　　結果の合成 pcit03')"
      ],
      "execution_count": 0,
      "outputs": []
    },
    {
      "cell_type": "code",
      "metadata": {
        "id": "1Y_uO4nnW27n",
        "colab_type": "code",
        "colab": {}
      },
      "source": [
        ""
      ],
      "execution_count": 0,
      "outputs": []
    }
  ]
}