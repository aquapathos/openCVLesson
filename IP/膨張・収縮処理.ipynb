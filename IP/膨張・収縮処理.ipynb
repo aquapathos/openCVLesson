{
  "nbformat": 4,
  "nbformat_minor": 0,
  "metadata": {
    "colab": {
      "name": "膨張・収縮処理",
      "provenance": [],
      "collapsed_sections": [],
      "include_colab_link": true
    },
    "kernelspec": {
      "name": "python3",
      "display_name": "Python 3"
    }
  },
  "cells": [
    {
      "cell_type": "markdown",
      "metadata": {
        "id": "view-in-github",
        "colab_type": "text"
      },
      "source": [
        "<a href=\"https://colab.research.google.com/github/aquapathos/openCVLesson/blob/master/IP/%E8%86%A8%E5%BC%B5%E3%83%BB%E5%8F%8E%E7%B8%AE%E5%87%A6%E7%90%86.ipynb\" target=\"_parent\"><img src=\"https://colab.research.google.com/assets/colab-badge.svg\" alt=\"Open In Colab\"/></a>"
      ]
    },
    {
      "cell_type": "markdown",
      "metadata": {
        "id": "Opj2V9kxUPHk",
        "colab_type": "text"
      },
      "source": [
        "# ２値画像の膨張・収縮\n",
        "## **目的**\n",
        "\n",
        "　実際の画像に対して２値の膨張・収縮処理を行い、その基本的性質を理解しましょう。\n",
        "\n",
        "## **基本的な膨張・収縮処理**\n",
        "\n",
        "- 膨張処理  \n",
        "- 収縮処理  \n",
        "- 膨張収縮によるノイズ除去  \n",
        "\n",
        "　このそれぞれに\n",
        "- ８近傍処理\n",
        "- ４近傍処理  \n",
        "\n",
        "があり、結果は違ってくる。\n",
        "\n",
        "**膨張収縮によるノイズ除去**は、\n",
        "\n",
        "- 膨張後収縮\n",
        "- 収縮後膨張\n",
        "\n",
        "のバリエーションがある。\n",
        "\n",
        "## **課題**\n",
        "\n",
        "- 用意されたプログラムを用いて、上に挙げた各処理を行い、各処理についての、８近傍処理と４近傍処理の結果の違いを観察し、その性質について考察する。  \n",
        "- ノイズ除去の実験については、膨張・収縮の処理回数をさまざまに変えてみて、自分の選んだ入力画像の場合の最適な組み合わせを探す。最適な組み合わせとその他いくつかの結果を報告する。\n",
        "\n",
        "<font color=red size=2>　課題内容にふさわしい処理対象画像を用意して実験を行うこと。適当に作ったら考察がやりにくくなる。違いが観察しやすくなるような画像を選ぶセンスが重要。</font>\n",
        "\n",
        "## **レポート**\n",
        "\n",
        "- 実験結果の報告（画像だけのレポートは不可。きちんと文書化すること）\n",
        "- 上の課題で上げた考察をきちんと記述すること。\n",
        "\n",
        "## **実験要領**\n",
        "\n",
        "#### 処理対象画像の準備\n",
        "\n",
        "- ２値画像処理ですから、白黒の画像でないといけません。\n",
        "- あまり複雑だと４近傍処理と８近傍処理の違いが分かりにくいので、比較的単純な図形の方がよい。\n",
        "- ペイントソフトで作るか、白黒のアイコンなどのフリー素材（[例](https://icooon-mono.com/) )の中から選ぶとよいでしょう。\n",
        "- 背景が白であることが前提となっています。逆の場合は、アップロード時に、**反転** させることができます。\n",
        "\n",
        "なお、入力画像は  256x256 にリサイズされます。\n",
        "\n",
        "#### <font color=orange>実験手順についての注意</font>\n",
        "\n",
        "- 最初は何もいじらずに、説明を読みながら最後まで実行し、実験内容を把握してください。\n",
        "- 実験レポートには、自分で作った（選んだ）画像を使って実行した結果を使ってください。\n",
        "- プログラムには依存関係があります。上から順に実行することが前提となっています。途中を飛ばして実行することはできません。（結果が出ても、前提がくるっているので、正しい結果ではありません）\n",
        "\n",
        "\n",
        "\n",
        "\n"
      ]
    },
    {
      "cell_type": "code",
      "metadata": {
        "id": "37kBCrVTy93a",
        "colab_type": "code",
        "colab": {}
      },
      "source": [
        "import urllib.request\n",
        "import cv2\n",
        "import numpy as np\n",
        "from matplotlib import pyplot as plt\n",
        "from google.colab.patches import cv2_imshow\n",
        "from google.colab import files\n",
        "\n",
        "# url = \"https://user-images.githubusercontent.com/5820803/81074733-6556bf80-8f24-11ea-87c8-937e09b417ac.jpg\" # cross"
      ],
      "execution_count": 0,
      "outputs": []
    },
    {
      "cell_type": "markdown",
      "metadata": {
        "id": "AhtiiRJa4S-6",
        "colab_type": "text"
      },
      "source": [
        "# 処理対象画像の入力\n",
        "\n",
        "![twoway](https://user-images.githubusercontent.com/5820803/81167986-22065a80-8fd1-11ea-8f3a-817b982afdf2.png)\n",
        "\n",
        "次のセルの実行で処理対象画像を入力します。\n",
        "\n",
        "入力方法を３とおり用意してあります。\n",
        "\n",
        "1. URL指定\n",
        "2. 即時アップロード  \n",
        "3. 事前アップロード\n",
        "\n",
        "#### **1. URL指定による画像入力**\n",
        "\n",
        "スマートフォンの場合、機種によってはブラウザの機能不足でプログラム中のアップロード機能はつかえませんので、URL指定の方を使いまる。ファイル名は図のキャプションで使われるだけですので、任意の名前を記入してください。\n",
        "\n",
        "![unnamed](https://user-images.githubusercontent.com/5820803/81169123-44997300-8fd3-11ea-820f-d7c3f8826b64.jpg)\n",
        "\n",
        "　↑　スマートフォンでの実行画面\n",
        "\n",
        "\n",
        "\n",
        "\n",
        "スマートフォンでのURL指定の例　→　　https://youtu.be/ajhG5NC41i0\n",
        "\n",
        "\n",
        "#### **2. 即時アップロード**\n",
        "\n",
        "ペイントソフト等で作った画像を使う場合や、パソコン内にある白黒画像を処理対象にする場合は、「即時アップロード」か「事前アップロード」を選んでください。\n",
        "\n",
        "\n",
        "「即時アップロード」を選んで実行すると、「ファイル選択」ボタンが表示されるので、すかさず処理対象画像をアップロードしてください。 \n",
        "\n",
        "　画像ファイル名として、アップロードしたファイル名が使われます。\n",
        "\n",
        "\n",
        "#### **3. 事前アップロード**\n",
        "\n",
        "　左のブラウズエリアで、事前に画像ファイルをアップロードしておく方法です。\n",
        "\n",
        "【事前アップロード方法】\n",
        "\n",
        "1. 左上の　≡　のところをクリック（タップ）する。PCの場合は、フォルダアイコンをクリック、スマートフォンの場合は、メニューから、「ファイルブラウザの表示」を選ぶ。    \n",
        "2.「アップロード」を選び、画像ファイルをアップロードする。    \n",
        "3. 次のセルで、画像入力方法として、「事前アップロード」を選び、アップロードしたファイル名を正しく記入する。URLは無視される。\n",
        "\n",
        "\n",
        "(スマホ対応情報)\n",
        "- iOS は事前アップロードはできますが、即時アップロードができないようです。 (iOS 13.3.1 Chrome で確認）   \n",
        "- Anndroid は３つの入力方法すべて使えることを確認しました。(android 9.0 Chrome で確認）\n",
        "\n",
        "\n",
        "**注意**\n",
        "\n",
        "初めから入力されている URL はサンプル画像 cross.png のURLが記入されています。\n",
        "\n",
        "最初は変更せずにそのまま最後まで実行してみてください。\n",
        "\n",
        "\n",
        "\n",
        "\n",
        "## 処理対象画像の前提\n",
        "\n",
        "<font color=red>背景が白、対象が黒であることを前提としています。\n",
        "\n",
        "背景が黒の場合は、**反転** にチェックを入れてセルを実行してください。></font>"
      ]
    },
    {
      "cell_type": "code",
      "metadata": {
        "id": "KTAlPPZQZWu0",
        "colab_type": "code",
        "outputId": "8b439300-c1f6-4534-a906-af7b93692f16",
        "colab": {
          "base_uri": "https://localhost:8080/",
          "height": 566
        }
      },
      "source": [
        "# 処理対象画像の指定\n",
        "画像入力方法 = \"URL\\u6307\\u5B9A\"  #@param [\"アップロード\",\"事前アップロード\", \"URL指定\"]\n",
        "url=\"https://bit.ly/3frmgPm\" #@param {type:\"string\"}\n",
        "ファイル名を入力してください=\"cross.png\" #@param {type:\"string\"}\n",
        "if 画像入力方法 == \"アップロード\":\n",
        "  filename = list(files.upload())[0]\n",
        "  img = cv2.imread(filename,1) # カラーで読み込み\n",
        "elif 画像入力方法 == \"事前アップロード\":\n",
        "  filename = ファイル名を入力してください\n",
        "  img = cv2.imread(filename,1) # カラーで読み込み\n",
        "else: # URLからのダウンロード\n",
        "  img_path, header = urllib.request.urlretrieve(url)\n",
        "  img = cv2.imread(img_path,1)  \n",
        "  filename = ファイル名を入力してください\n",
        "反転 = False #@param {type:\"boolean\", min:1, max:30, step:1}\n",
        "gry = cv2.cvtColor(img,cv2.COLOR_BGR2GRAY) # グレイスケールに変換\n",
        "if 反転:\n",
        "  gry = 255-gry\n",
        "gry = cv2.resize(gry,(256,256)) # 256x256にリサイズ\n",
        "cv2_imshow(img)\n",
        "print(\"図A-1　cross.jpg\")\n",
        "hist = cv2.calcHist([gry],[0],None,[256],[0,256])\n",
        "plt.hist(gry.ravel(),256,[0,256]); plt.show()\n",
        "print(\"図A-2　coss.jpg のヒストグラム\")"
      ],
      "execution_count": 2,
      "outputs": [
        {
          "output_type": "display_data",
          "data": {
            "image/png": "[encoded data removed]",
            "text/plain": [
              "<PIL.Image.Image image mode=RGB size=256x266 at 0x7F445D0954E0>"
            ]
          },
          "metadata": {
            "tags": []
          }
        },
        {
          "output_type": "stream",
          "text": [
            "図A-1　cross.jpg\n"
          ],
          "name": "stdout"
        },
        {
          "output_type": "display_data",
          "data": {
            "image/png": "[encoded data removed]",
            "text/plain": [
              "<Figure size 432x288 with 1 Axes>"
            ]
          },
          "metadata": {
            "tags": [],
            "needs_background": "light"
          }
        },
        {
          "output_type": "stream",
          "text": [
            "図A-2　coss.jpg のヒストグラム\n"
          ],
          "name": "stdout"
        }
      ]
    },
    {
      "cell_type": "code",
      "metadata": {
        "id": "srbsMmYYz-XD",
        "colab_type": "code",
        "outputId": "ef24a759-4138-4ca3-d0de-cf522d3f82f0",
        "colab": {
          "base_uri": "https://localhost:8080/",
          "height": 290
        }
      },
      "source": [
        "# ２階調化\n",
        "ret, bw = cv2.threshold(gry,0,255,cv2.THRESH_BINARY+cv2.THRESH_OTSU)\n",
        "cv2_imshow(bw)\n",
        "print(\"図A-3　coss.jpg を判別分析法によるしきい値 {} で２階調化した画像\".format(ret))"
      ],
      "execution_count": 3,
      "outputs": [
        {
          "output_type": "display_data",
          "data": {
            "image/png": "[encoded data removed]",
            "text/plain": [
              "<PIL.Image.Image image mode=L size=256x256 at 0x7F445D086C50>"
            ]
          },
          "metadata": {
            "tags": []
          }
        },
        {
          "output_type": "stream",
          "text": [
            "図A-3　coss.jpg を判別分析法によるしきい値 124.0 で２階調化した画像\n"
          ],
          "name": "stdout"
        }
      ]
    },
    {
      "cell_type": "markdown",
      "metadata": {
        "id": "LEiGx4G_Cbcv",
        "colab_type": "text"
      },
      "source": [
        "# 実験対象画像の生成\n",
        "\n",
        "1. 上記２値画像のマージンを増やした画像\n",
        "2. 45度回転した画像\n",
        "3. ノイズを加えた画像\n",
        "\n",
        "を生成する。\n",
        "\n",
        "マージンを増やすのは、回転時と膨張処理時に図形が表示領域外に出る可能性があるため。"
      ]
    },
    {
      "cell_type": "code",
      "metadata": {
        "id": "v_jEx6cS0JeG",
        "colab_type": "code",
        "outputId": "4b68469c-b428-4672-9e46-22949138a14f",
        "colab": {
          "base_uri": "https://localhost:8080/",
          "height": 1000
        }
      },
      "source": [
        "NNoise = 1000 # ノイズの個数\n",
        "Margin = 70\n",
        "\n",
        "def 実験用画像生成(bw):\n",
        "    # 画像の高さと幅\n",
        "    height = bw.shape[0]                         \n",
        "    width = bw.shape[1]  \n",
        "\n",
        "    # 余白を増やす\n",
        "    timg = 255*np.ones((height+Margin,width+Margin)) # 真っ白の画像\n",
        "    HM = Margin//2\n",
        "    timg[HM:HM+height,HM:HM+width] = bw # 背景が白なので白黒反転\n",
        "\n",
        "    # 中心                          \n",
        "    center = (width//2+HM, height//2+HM)\n",
        "    # 回転行列を作成\n",
        "    rmatrix = cv2.getRotationMatrix2D(center, -45.0 , 1.0)\n",
        "    #アフィン変換で４５度回転した画像を作成\n",
        "    bw45 = (255-cv2.warpAffine(255-timg, rmatrix,(width+Margin,height+Margin)))\n",
        "\n",
        "    # ノイズ画像の生成\n",
        "    nbw = timg.copy()\n",
        "    pts_x = np.random.randint(0, width+Margin-1 , NNoise) # 0から(col-1)までの乱数をNNoise個作る\n",
        "    pts_y = np.random.randint(0, height+Margin-1 , NNoise)\n",
        "    for n in range(NNoise):\n",
        "      x = pts_x[n]\n",
        "      y = pts_y[n]\n",
        "      for i in range(np.random.randint(0, 5)):\n",
        "        rx = np.random.randint(-1, 2)\n",
        "        ry = np.random.randint(-1, 2)\n",
        "        x = x if x + rx < 0 or x + rx >= width+Margin else x + rx\n",
        "        y = y if y + ry < 0 or y + ry >= height+Margin else y + ry\n",
        "        nbw[y,x] = 255-nbw[y,x] # 反転する\n",
        "\n",
        "    return timg,bw45,nbw\n",
        "\n",
        "bw0,bw45,nbw = 実験用画像生成(bw)\n",
        "\n",
        "cv2_imshow(bw0)\n",
        "print(\"図A-4　マージンを増した２値画像\")\n",
        "\n",
        "cv2_imshow(bw45)\n",
        "print(\"図A-5　45度回転した画像\")\n",
        "\n",
        "cv2_imshow(nbw)\n",
        "print(\"図A-6　ノイズを加えた画像\")"
      ],
      "execution_count": 4,
      "outputs": [
        {
          "output_type": "display_data",
          "data": {
            "image/png": "[encoded data removed]",
            "text/plain": [
              "<PIL.Image.Image image mode=L size=326x326 at 0x7F445C4510F0>"
            ]
          },
          "metadata": {
            "tags": []
          }
        },
        {
          "output_type": "stream",
          "text": [
            "図A-4　マージンを増した２値画像\n"
          ],
          "name": "stdout"
        },
        {
          "output_type": "display_data",
          "data": {
            "image/png": "[encoded data removed]",
            "text/plain": [
              "<PIL.Image.Image image mode=L size=326x326 at 0x7F445C451978>"
            ]
          },
          "metadata": {
            "tags": []
          }
        },
        {
          "output_type": "stream",
          "text": [
            "図A-5　45度回転した画像\n"
          ],
          "name": "stdout"
        },
        {
          "output_type": "display_data",
          "data": {
            "image/png": "[encoded data removed]",
            "text/plain": [
              "<PIL.Image.Image image mode=L size=326x326 at 0x7F445C451748>"
            ]
          },
          "metadata": {
            "tags": []
          }
        },
        {
          "output_type": "stream",
          "text": [
            "図A-6　ノイズを加えた画像\n"
          ],
          "name": "stdout"
        }
      ]
    },
    {
      "cell_type": "markdown",
      "metadata": {
        "id": "7IA1AnFc7yy8",
        "colab_type": "text"
      },
      "source": [
        "# 実験１　膨張処理\n",
        "\n",
        "収縮はErosion，膨張はDilationであるが，opencv では，図が白，地が黒であることが前提のネーミングとなっている．\n",
        "ここでは図が黒，地が白であるので，膨張と収縮が逆になることに注意せよ．\n",
        "\n",
        "\n",
        "## 実験１－１  　８近傍の膨張\n",
        "\n",
        "下のプログラムは、膨張処理を指定回数繰り返し実行するプログラムである。\n",
        "\n",
        "デフォルトは10回としてあるが、任意の回数に変更できる。\n",
        "\n",
        "繰り返し回数により、結果は変わるので、レポートには必ず回数を記述すること。\n",
        "\n",
        "なお、背景がまっ白だと境界が分かりにくいのでわざと暗く表示している。\n",
        "\n",
        "\n",
        "### 10回繰り返し"
      ]
    },
    {
      "cell_type": "code",
      "metadata": {
        "id": "CrXF5WhF3dAz",
        "colab_type": "code",
        "outputId": "21646d79-7081-4804-927b-47677c0f54be",
        "colab": {
          "base_uri": "https://localhost:8080/",
          "height": 704
        }
      },
      "source": [
        "繰り返し回数 = 10 #@param {type:\"slider\", min:1, max:30, step:1}\n",
        "neiborhood8 = np.ones((3,3),np.uint8)\n",
        "dilation8 = cv2.erode(bw0,neiborhood8,iterations = 繰り返し回数 )\n",
        "dilation8r45 = cv2.erode(bw45,neiborhood8,iterations = 繰り返し回数 )\n",
        "cv2_imshow(250*(dilation8/255))\n",
        "print(\"図A-7　cross の {}回膨張　８近傍処理\".format(繰り返し回数 ))\n",
        "cv2_imshow(250*(dilation8r45/255))\n",
        "print(\"図A-8　45度回転画像 の {}回膨張　８近傍処理\".format(繰り返し回数))"
      ],
      "execution_count": 5,
      "outputs": [
        {
          "output_type": "display_data",
          "data": {
            "image/png": "[encoded data removed]",
            "text/plain": [
              "<PIL.Image.Image image mode=L size=326x326 at 0x7F445C3DF7F0>"
            ]
          },
          "metadata": {
            "tags": []
          }
        },
        {
          "output_type": "stream",
          "text": [
            "図A-7　cross の 10回膨張　８近傍処理\n"
          ],
          "name": "stdout"
        },
        {
          "output_type": "display_data",
          "data": {
            "image/png": "[encoded data removed]",
            "text/plain": [
              "<PIL.Image.Image image mode=L size=326x326 at 0x7F445C3DF7F0>"
            ]
          },
          "metadata": {
            "tags": []
          }
        },
        {
          "output_type": "stream",
          "text": [
            "図A-8　45度回転画像 の 10回膨張　８近傍処理\n"
          ],
          "name": "stdout"
        }
      ]
    },
    {
      "cell_type": "markdown",
      "metadata": {
        "id": "haVxM4ENF44c",
        "colab_type": "text"
      },
      "source": [
        "### 25回繰り返し"
      ]
    },
    {
      "cell_type": "code",
      "metadata": {
        "id": "jJNGNdawFzpP",
        "colab_type": "code",
        "outputId": "1b750333-3cf2-4979-aaac-af617ac427ee",
        "colab": {
          "base_uri": "https://localhost:8080/",
          "height": 704
        }
      },
      "source": [
        "itt = 25 #@param {type:\"slider\", min:1, max:30, step:1}\n",
        "neiborhood8 = np.ones((3,3),np.uint8)\n",
        "dilation8 = cv2.erode(bw0,neiborhood8,iterations = itt)\n",
        "dilation8r45 = cv2.erode(bw45,neiborhood8,iterations = itt)\n",
        "cv2_imshow(250*(dilation8/255))\n",
        "print(\"図A-9　cross の {}回膨張 ８近傍処理\".format(itt))\n",
        "cv2_imshow(250*(dilation8r45/255))\n",
        "print(\"図A-10　45度回転画像 の {}回膨張　８近傍処理\".format(itt))"
      ],
      "execution_count": 6,
      "outputs": [
        {
          "output_type": "display_data",
          "data": {
            "image/png": "[encoded data removed]",
            "text/plain": [
              "<PIL.Image.Image image mode=L size=326x326 at 0x7F445C3DF7F0>"
            ]
          },
          "metadata": {
            "tags": []
          }
        },
        {
          "output_type": "stream",
          "text": [
            "図A-9　cross の 25回膨張 ８近傍処理\n"
          ],
          "name": "stdout"
        },
        {
          "output_type": "display_data",
          "data": {
            "image/png": "[encoded data removed]",
            "text/plain": [
              "<PIL.Image.Image image mode=L size=326x326 at 0x7F445C3DFB00>"
            ]
          },
          "metadata": {
            "tags": []
          }
        },
        {
          "output_type": "stream",
          "text": [
            "図A-10　45度回転画像 の 25回膨張　８近傍処理\n"
          ],
          "name": "stdout"
        }
      ]
    },
    {
      "cell_type": "markdown",
      "metadata": {
        "id": "fQwBY89vZvwL",
        "colab_type": "text"
      },
      "source": [
        "### 徐々に膨張回数を増やして変化の様子を観測してみる（８近傍膨張処理）"
      ]
    },
    {
      "cell_type": "code",
      "metadata": {
        "id": "aH0MgBCnVA2B",
        "colab_type": "code",
        "outputId": "3798689d-88c2-4789-b6ca-a3b43b72e123",
        "colab": {
          "base_uri": "https://localhost:8080/",
          "height": 334
        }
      },
      "source": [
        "def stepuperode8(bw,bw45):\n",
        "    plt.figure(figsize=(10, 4), dpi=100)\n",
        "    neiborhood8 = np.ones((3,3),np.uint8)\n",
        "    plt.subplot(2,6,1)\n",
        "    plt.imshow(bw)\n",
        "    plt.title(\"Origin\")\n",
        "    plt.axis('off')\n",
        "    for i in range(1, 6):\n",
        "        dilation8 = cv2.erode(bw,neiborhood8,iterations = i*5 )\n",
        "        plt.subplot(2, 6, i+1)\n",
        "        plt.title(str(5*i))\n",
        "        plt.imshow(dilation8)\n",
        "        plt.axis('off')\n",
        "        dilation8r45 = cv2.erode(bw45,neiborhood8,iterations = i*5)\n",
        "        plt.subplot(2, 6, 6+i+1)\n",
        "        plt.title(str(5*i))\n",
        "        plt.imshow(dilation8r45)\n",
        "        plt.axis('off')\n",
        "\n",
        "stepuperode8(bw0,bw45)"
      ],
      "execution_count": 7,
      "outputs": [
        {
          "output_type": "display_data",
          "data": {
            "image/png": "[encoded data removed]",
            "text/plain": [
              "<Figure size 1000x400 with 11 Axes>"
            ]
          },
          "metadata": {
            "tags": [],
            "needs_background": "light"
          }
        }
      ]
    },
    {
      "cell_type": "markdown",
      "metadata": {
        "id": "XxjKgeEKa2P5",
        "colab_type": "text"
      },
      "source": [
        "\n",
        " 　　　　　　　　　　　　　図A-11　膨張回数を段階的に増やしていった場合の結果観察（８近傍膨張処理 )\n"
      ]
    },
    {
      "cell_type": "markdown",
      "metadata": {
        "id": "IowfWbRSGHRf",
        "colab_type": "text"
      },
      "source": [
        "## 実験１ー２  ４近傍膨張\n",
        "### 10回繰り返し\n",
        "\n",
        "※　８近傍処理との比較のため、繰り返し回数は同じにすること。"
      ]
    },
    {
      "cell_type": "code",
      "metadata": {
        "id": "Ld8YLlRi5zHA",
        "colab_type": "code",
        "outputId": "e1058c8a-2d27-4e5e-944c-49cc6c019745",
        "colab": {
          "base_uri": "https://localhost:8080/",
          "height": 704
        }
      },
      "source": [
        "itt = 10 #@param {type:\"slider\", min:1, max:30, step:1}\n",
        "neiborhood4 = np.array([[0, 1, 0],[1, 1, 1],[0, 1, 0]],np.uint8)\n",
        "dilation4 = cv2.erode(bw0,neiborhood4,iterations = itt)\n",
        "dilation4r45 = cv2.erode(bw45,neiborhood4,iterations = itt)\n",
        "cv2_imshow(250*(dilation4/255))\n",
        "print(\"図A-12　cross の {}回膨張　４近傍処理\".format(itt))\n",
        "cv2_imshow(250*(dilation4r45/255))\n",
        "print(\"図A-13　45度回転画像 の {}回膨張　４近傍処理\".format(itt))"
      ],
      "execution_count": 8,
      "outputs": [
        {
          "output_type": "display_data",
          "data": {
            "image/png": "[encoded data removed]",
            "text/plain": [
              "<PIL.Image.Image image mode=L size=326x326 at 0x7F445D098470>"
            ]
          },
          "metadata": {
            "tags": []
          }
        },
        {
          "output_type": "stream",
          "text": [
            "図A-12　cross の 10回膨張　４近傍処理\n"
          ],
          "name": "stdout"
        },
        {
          "output_type": "display_data",
          "data": {
            "image/png": "[encoded data removed]",
            "text/plain": [
              "<PIL.Image.Image image mode=L size=326x326 at 0x7F445D0989E8>"
            ]
          },
          "metadata": {
            "tags": []
          }
        },
        {
          "output_type": "stream",
          "text": [
            "図A-13　45度回転画像 の 10回膨張　４近傍処理\n"
          ],
          "name": "stdout"
        }
      ]
    },
    {
      "cell_type": "markdown",
      "metadata": {
        "id": "7HdvWiCtGcyY",
        "colab_type": "text"
      },
      "source": [
        "### 25回繰り返し\n",
        "\n",
        "※　８近傍処理との比較のため、繰り返し回数は同じにすること。"
      ]
    },
    {
      "cell_type": "code",
      "metadata": {
        "id": "g9nmbXmR--R2",
        "colab_type": "code",
        "outputId": "3f414f12-178e-4a42-9f71-8871d902f0d3",
        "colab": {
          "base_uri": "https://localhost:8080/",
          "height": 704
        }
      },
      "source": [
        "itt = 25 #@param {type:\"slider\", min:1, max:30, step:1}\n",
        "neiborhood4 = np.array([[0, 1, 0],[1, 1, 1],[0, 1, 0]],np.uint8)\n",
        "dilation4 = cv2.erode(bw0,neiborhood4,iterations = itt)\n",
        "dilation4r45 = cv2.erode(bw45,neiborhood4,iterations = itt)\n",
        "cv2_imshow(250*(dilation4/255))\n",
        "print(\"図A-14　cross の {}回膨張　４近傍処理\".format(itt))\n",
        "cv2_imshow(250*(dilation4r45/255))\n",
        "print(\"図A-15　45度回転画像 の {}回膨張　４近傍処理\".format(itt))"
      ],
      "execution_count": 9,
      "outputs": [
        {
          "output_type": "display_data",
          "data": {
            "image/png": "[encoded data removed]",
            "text/plain": [
              "<PIL.Image.Image image mode=L size=326x326 at 0x7F445D0989B0>"
            ]
          },
          "metadata": {
            "tags": []
          }
        },
        {
          "output_type": "stream",
          "text": [
            "図A-14　cross の 25回膨張　４近傍処理\n"
          ],
          "name": "stdout"
        },
        {
          "output_type": "display_data",
          "data": {
            "image/png": "[encoded data removed]",
            "text/plain": [
              "<PIL.Image.Image image mode=L size=326x326 at 0x7F445D098BA8>"
            ]
          },
          "metadata": {
            "tags": []
          }
        },
        {
          "output_type": "stream",
          "text": [
            "図A-15　45度回転画像 の 25回膨張　４近傍処理\n"
          ],
          "name": "stdout"
        }
      ]
    },
    {
      "cell_type": "markdown",
      "metadata": {
        "id": "wukS-zR4SVWn",
        "colab_type": "text"
      },
      "source": [
        "### 徐々に膨張回数を増やして変化の様子を観測してみる（４近傍膨張処理）"
      ]
    },
    {
      "cell_type": "code",
      "metadata": {
        "id": "xty1XX84bi1n",
        "colab_type": "code",
        "outputId": "b9e3b826-b07d-475b-d456-1394a7386980",
        "colab": {
          "base_uri": "https://localhost:8080/",
          "height": 334
        }
      },
      "source": [
        "def stepuperode4(bw,bw45):\n",
        "    plt.figure(figsize=(10, 4), dpi=100)\n",
        "    plt.subplot(2,6,1)\n",
        "    plt.imshow(bw)\n",
        "    plt.title(\"Origin\")\n",
        "    plt.axis('off')\n",
        "    for i in range(1, 6):\n",
        "        dilation4 = cv2.erode(bw,neiborhood4,iterations = i*5 )\n",
        "        plt.subplot(2, 6, i+1)\n",
        "        plt.title(str(5*i))\n",
        "        plt.imshow(dilation4)\n",
        "        plt.axis('off')\n",
        "        dilation4r45 = cv2.erode(bw45,neiborhood4,iterations = i*5)\n",
        "        plt.subplot(2, 6, 6+i+1)\n",
        "        plt.title(str(5*i))\n",
        "        plt.imshow(dilation4r45)\n",
        "        plt.axis('off')\n",
        "\n",
        "stepuperode4(bw0,bw45)"
      ],
      "execution_count": 10,
      "outputs": [
        {
          "output_type": "display_data",
          "data": {
            "image/png": "[encoded data removed]",
            "text/plain": [
              "<Figure size 1000x400 with 11 Axes>"
            ]
          },
          "metadata": {
            "tags": [],
            "needs_background": "light"
          }
        }
      ]
    },
    {
      "cell_type": "markdown",
      "metadata": {
        "id": "nz5oP8t7b34G",
        "colab_type": "text"
      },
      "source": [
        " 　　　　　　　　　　　　　図A-16　膨張回数を段階的に増やしていった場合の結果観察（４近傍膨張処理 )"
      ]
    },
    {
      "cell_type": "markdown",
      "metadata": {
        "id": "GzCIlZiDHLwE",
        "colab_type": "text"
      },
      "source": [
        "# 実験２　収縮処理\n",
        "\n",
        "## 実験２－１　8近傍収縮\n",
        "\n",
        "### 10回収縮"
      ]
    },
    {
      "cell_type": "code",
      "metadata": {
        "id": "pAg9r2zfHSaZ",
        "colab_type": "code",
        "outputId": "e2e60ec2-5a07-4680-c7c0-f0031c50b2ef",
        "colab": {
          "base_uri": "https://localhost:8080/",
          "height": 704
        }
      },
      "source": [
        "itt = 10 #@param {type:\"slider\", min:1, max:30, step:1}\n",
        "neiborhood8 = np.ones((3,3),np.uint8)\n",
        "erosion8 = cv2.dilate(bw0,neiborhood8,iterations = itt)\n",
        "erosion8r45 = cv2.dilate(bw45,neiborhood8,iterations = itt)\n",
        "cv2_imshow(250*(erosion8/255))\n",
        "print(\"図A-17　cross の {}回収縮　８近傍処理\".format(itt))\n",
        "cv2_imshow(250*(erosion8r45/255))\n",
        "print(\"図A-18　45度回転画像 の {}回収縮　８近傍処理\".format(itt))"
      ],
      "execution_count": 11,
      "outputs": [
        {
          "output_type": "display_data",
          "data": {
            "image/png": "[encoded data removed]",
            "text/plain": [
              "<PIL.Image.Image image mode=L size=326x326 at 0x7F445D098D30>"
            ]
          },
          "metadata": {
            "tags": []
          }
        },
        {
          "output_type": "stream",
          "text": [
            "図A-17　cross の 10回収縮　８近傍処理\n"
          ],
          "name": "stdout"
        },
        {
          "output_type": "display_data",
          "data": {
            "image/png": "[encoded data removed]",
            "text/plain": [
              "<PIL.Image.Image image mode=L size=326x326 at 0x7F445D098D30>"
            ]
          },
          "metadata": {
            "tags": []
          }
        },
        {
          "output_type": "stream",
          "text": [
            "図A-18　45度回転画像 の 10回収縮　８近傍処理\n"
          ],
          "name": "stdout"
        }
      ]
    },
    {
      "cell_type": "markdown",
      "metadata": {
        "id": "NVzFCPWdH9s6",
        "colab_type": "text"
      },
      "source": [
        "### 25回収縮"
      ]
    },
    {
      "cell_type": "code",
      "metadata": {
        "id": "aGqyD5i6GlqT",
        "colab_type": "code",
        "outputId": "eb0115f7-66ee-4330-ab1a-96fcf9fb5627",
        "colab": {
          "base_uri": "https://localhost:8080/",
          "height": 704
        }
      },
      "source": [
        "itt = 25 #@param {type:\"slider\", min:1, max:30, step:1}\n",
        "neiborhood8 = np.ones((3,3),np.uint8)\n",
        "erosion8 = cv2.dilate(bw0,neiborhood8,iterations = itt)\n",
        "erosion8r45 = cv2.dilate(bw45,neiborhood8,iterations = itt)\n",
        "cv2_imshow(250*(erosion8/255))\n",
        "print(\"図A-19　cross の {}回収縮　８近傍処理\".format(itt))\n",
        "cv2_imshow(250*(erosion8r45/255))\n",
        "print(\"図A-20　45度回転画像 の {}回収縮　８近傍処理\".format(itt))"
      ],
      "execution_count": 12,
      "outputs": [
        {
          "output_type": "display_data",
          "data": {
            "image/png": "[encoded data removed]",
            "text/plain": [
              "<PIL.Image.Image image mode=L size=326x326 at 0x7F445D098080>"
            ]
          },
          "metadata": {
            "tags": []
          }
        },
        {
          "output_type": "stream",
          "text": [
            "図A-19　cross の 25回収縮　８近傍処理\n"
          ],
          "name": "stdout"
        },
        {
          "output_type": "display_data",
          "data": {
            "image/png": "[encoded data removed]",
            "text/plain": [
              "<PIL.Image.Image image mode=L size=326x326 at 0x7F445D098978>"
            ]
          },
          "metadata": {
            "tags": []
          }
        },
        {
          "output_type": "stream",
          "text": [
            "図A-20　45度回転画像 の 25回収縮　８近傍処理\n"
          ],
          "name": "stdout"
        }
      ]
    },
    {
      "cell_type": "markdown",
      "metadata": {
        "id": "k3uHLdxlWAvX",
        "colab_type": "text"
      },
      "source": [
        "### 徐々に収縮回数を増やして変化の様子を観測してみる（８近傍収縮処理）"
      ]
    },
    {
      "cell_type": "code",
      "metadata": {
        "id": "EFYKq9H-b-HT",
        "colab_type": "code",
        "outputId": "251402e4-cb30-4429-f866-e026ac7a6aab",
        "colab": {
          "base_uri": "https://localhost:8080/",
          "height": 334
        }
      },
      "source": [
        "def stepupdilate8(bw,bw45):\n",
        "    plt.figure(figsize=(10, 4), dpi=100)\n",
        "    neiborhood8 = np.ones((3,3),np.uint8)\n",
        "    plt.subplot(2,6,1)\n",
        "    plt.imshow(bw)\n",
        "    plt.title(\"Origin\")\n",
        "    plt.axis('off')\n",
        "    for i in range(1, 6):\n",
        "        erosion8 = cv2.dilate(bw,neiborhood8,iterations = i*5 )\n",
        "        plt.subplot(2, 6, i+1)\n",
        "        plt.title(str(5*i))\n",
        "        plt.imshow(erosion8)\n",
        "        plt.axis('off')\n",
        "        erosion8r45 = cv2.dilate(bw45,neiborhood8,iterations = i*5)\n",
        "        plt.subplot(2, 6, 6+i+1)\n",
        "        plt.title(str(5*i))\n",
        "        plt.imshow(erosion8r45)\n",
        "        plt.axis('off')\n",
        "\n",
        "stepupdilate8(bw0,bw45)"
      ],
      "execution_count": 13,
      "outputs": [
        {
          "output_type": "display_data",
          "data": {
            "image/png": "[encoded data removed]",
            "text/plain": [
              "<Figure size 1000x400 with 11 Axes>"
            ]
          },
          "metadata": {
            "tags": [],
            "needs_background": "light"
          }
        }
      ]
    },
    {
      "cell_type": "markdown",
      "metadata": {
        "id": "Kez3i7klcX_V",
        "colab_type": "text"
      },
      "source": [
        "\n",
        "\n",
        "---\n",
        "\n",
        "　　　　　　　　　図A-21　収縮回数を段階的に増やしていった場合の結果観察（８近傍収縮 )"
      ]
    },
    {
      "cell_type": "markdown",
      "metadata": {
        "id": "C1btb18JIhsA",
        "colab_type": "text"
      },
      "source": [
        "## 実験２－２　　４近傍収縮\n",
        "\n",
        "### 10回収縮"
      ]
    },
    {
      "cell_type": "code",
      "metadata": {
        "id": "fLzK28kvIpgV",
        "colab_type": "code",
        "outputId": "74641f8a-47b3-4446-f092-46e29dd274f7",
        "colab": {
          "base_uri": "https://localhost:8080/",
          "height": 704
        }
      },
      "source": [
        "itt = 10 #@param {type:\"slider\", min:1, max:30, step:1}\n",
        "neiborhood4 = np.array([[0, 1, 0],[1, 1, 1],[0, 1, 0]],np.uint8)\n",
        "erosion4 = cv2.dilate(bw0,neiborhood4,iterations = itt)\n",
        "erosion4r45 = cv2.dilate(bw45,neiborhood4,iterations = itt)\n",
        "cv2_imshow(250*(erosion4/255))\n",
        "print(\"図A-22　cross の {}回収縮　４近傍処理\".format(itt))\n",
        "cv2_imshow(250*(erosion4r45/255))\n",
        "print(\"図A-23　45度回転画像 の {}回収縮　４近傍処理\".format(itt))"
      ],
      "execution_count": 14,
      "outputs": [
        {
          "output_type": "display_data",
          "data": {
            "image/png": "[encoded data removed]",
            "text/plain": [
              "<PIL.Image.Image image mode=L size=326x326 at 0x7F445D0989B0>"
            ]
          },
          "metadata": {
            "tags": []
          }
        },
        {
          "output_type": "stream",
          "text": [
            "図A-22　cross の 10回収縮　４近傍処理\n"
          ],
          "name": "stdout"
        },
        {
          "output_type": "display_data",
          "data": {
            "image/png": "[encoded data removed]",
            "text/plain": [
              "<PIL.Image.Image image mode=L size=326x326 at 0x7F445D0987F0>"
            ]
          },
          "metadata": {
            "tags": []
          }
        },
        {
          "output_type": "stream",
          "text": [
            "図A-23　45度回転画像 の 10回収縮　４近傍処理\n"
          ],
          "name": "stdout"
        }
      ]
    },
    {
      "cell_type": "markdown",
      "metadata": {
        "id": "4yUWd3Y2JD6r",
        "colab_type": "text"
      },
      "source": [
        "### 25回収縮"
      ]
    },
    {
      "cell_type": "code",
      "metadata": {
        "id": "PD2IFDSyI4Dh",
        "colab_type": "code",
        "outputId": "681e3a0c-322a-4ab5-fcf0-a308253b8d20",
        "colab": {
          "base_uri": "https://localhost:8080/",
          "height": 704
        }
      },
      "source": [
        "itt = 25 #@param {type:\"slider\", min:1, max:30, step:1}\n",
        "neiborhood4 = np.array([[0, 1, 0],[1, 1, 1],[0, 1, 0]],np.uint8)\n",
        "erosion4 = cv2.dilate(bw0,neiborhood4,iterations = itt)\n",
        "erosion4r45 = cv2.dilate(bw45,neiborhood4,iterations = itt)\n",
        "cv2_imshow(250*(erosion4/255))\n",
        "print(\"図A-24　cross の {}回収縮　４近傍処理\".format(itt))\n",
        "cv2_imshow(250*(erosion4r45/255))\n",
        "print(\"図A-25　45度回転画像 の {}回収縮　４近傍処理\".format(itt))"
      ],
      "execution_count": 15,
      "outputs": [
        {
          "output_type": "display_data",
          "data": {
            "image/png": "[encoded data removed]",
            "text/plain": [
              "<PIL.Image.Image image mode=L size=326x326 at 0x7F445D0988D0>"
            ]
          },
          "metadata": {
            "tags": []
          }
        },
        {
          "output_type": "stream",
          "text": [
            "図A-24　cross の 25回収縮　４近傍処理\n"
          ],
          "name": "stdout"
        },
        {
          "output_type": "display_data",
          "data": {
            "image/png": "[encoded data removed]",
            "text/plain": [
              "<PIL.Image.Image image mode=L size=326x326 at 0x7F445D0986A0>"
            ]
          },
          "metadata": {
            "tags": []
          }
        },
        {
          "output_type": "stream",
          "text": [
            "図A-25　45度回転画像 の 25回収縮　４近傍処理\n"
          ],
          "name": "stdout"
        }
      ]
    },
    {
      "cell_type": "code",
      "metadata": {
        "id": "k4jD4LZzJZlL",
        "colab_type": "code",
        "outputId": "8c77804c-62bc-4cb2-8580-8e5e1163041a",
        "colab": {
          "base_uri": "https://localhost:8080/",
          "height": 334
        }
      },
      "source": [
        "def stepupdilate4(bw,bw45):\n",
        "    plt.figure(figsize=(10, 4), dpi=100)\n",
        "    neiborhood4 = np.array([[0, 1, 0],[1, 1, 1],[0, 1, 0]],np.uint8)\n",
        "    plt.subplot(2,6,1)\n",
        "    plt.imshow(bw)\n",
        "    plt.title(\"Origin\")\n",
        "    plt.axis('off')\n",
        "    for i in range(1, 6):\n",
        "        erosion4 = cv2.dilate(bw,neiborhood4,iterations = i*5 )\n",
        "        plt.subplot(2, 6, i+1)\n",
        "        plt.title(str(5*i))\n",
        "        plt.imshow(erosion4)\n",
        "        plt.axis('off')\n",
        "        erosion4r45 = cv2.dilate(bw45,neiborhood4,iterations = i*5)\n",
        "        plt.subplot(2, 6, 6+i+1)\n",
        "        plt.title(str(5*i))\n",
        "        plt.imshow(erosion4r45)\n",
        "        plt.axis('off')\n",
        "\n",
        "stepupdilate4(bw0,bw45)"
      ],
      "execution_count": 16,
      "outputs": [
        {
          "output_type": "display_data",
          "data": {
            "image/png": "[encoded data removed]",
            "text/plain": [
              "<Figure size 1000x400 with 11 Axes>"
            ]
          },
          "metadata": {
            "tags": [],
            "needs_background": "light"
          }
        }
      ]
    },
    {
      "cell_type": "markdown",
      "metadata": {
        "id": "uaNh24MhdF-y",
        "colab_type": "text"
      },
      "source": [
        "　　　　　　　　　　　　　図A-26　収縮回数を段階的に増やしていった場合の結果観察（４近傍収縮 )"
      ]
    },
    {
      "cell_type": "markdown",
      "metadata": {
        "id": "Kpr_XR5WgFSj",
        "colab_type": "text"
      },
      "source": [
        "# 実験３　　膨張収縮によるノイズ除去\n",
        "\n",
        "<font color=red>膨張回数と収縮回数を変えるとどうなるか試しましょう。\n",
        "\n",
        "一番うまくノイズが消える組み合わせを報告してください。</font>\n",
        "\n",
        "## 実験３－１　膨張後収縮 \n",
        "### ８近傍処理"
      ]
    },
    {
      "cell_type": "code",
      "metadata": {
        "id": "VCiDp3-fgZth",
        "colab_type": "code",
        "outputId": "927f29e7-0560-4c3b-8d4b-cfec57b5d4fd",
        "colab": {
          "base_uri": "https://localhost:8080/",
          "height": 1000
        }
      },
      "source": [
        "膨張回数 = 1 #@param {type:\"slider\", min:1, max:10, step:1}\n",
        "収縮回数 = 1 #@param {type:\"slider\", min:1, max:10, step:1}\n",
        "\n",
        "cv2_imshow(250*(nbw/255))\n",
        "print(\"　　　　　図A-27　ノイズ除去前画像\")\n",
        "dilation8 = cv2.erode(nbw,neiborhood8,iterations = 膨張回数 )\n",
        "cv2_imshow(250*(dilation8/255))\n",
        "print(\"　　　　　図A-28　{}回膨張後（８近傍処理）\".format(膨張回数))\n",
        "erode8 = cv2.dilate(dilation8,neiborhood8,iterations = 収縮回数 )\n",
        "cv2_imshow(250*(erode8/255))\n",
        "print(\"　　　　　図A-29　{}回収縮後（８近傍処理）\".format(収縮回数))"
      ],
      "execution_count": 17,
      "outputs": [
        {
          "output_type": "display_data",
          "data": {
            "image/png": "[encoded data removed]",
            "text/plain": [
              "<PIL.Image.Image image mode=L size=326x326 at 0x7F445CA291D0>"
            ]
          },
          "metadata": {
            "tags": []
          }
        },
        {
          "output_type": "stream",
          "text": [
            "　　　　　図A-27　ノイズ除去前画像\n"
          ],
          "name": "stdout"
        },
        {
          "output_type": "display_data",
          "data": {
            "image/png": "[encoded data removed]",
            "text/plain": [
              "<PIL.Image.Image image mode=L size=326x326 at 0x7F445CA29320>"
            ]
          },
          "metadata": {
            "tags": []
          }
        },
        {
          "output_type": "stream",
          "text": [
            "　　　　　図A-28　1回膨張後（８近傍処理）\n"
          ],
          "name": "stdout"
        },
        {
          "output_type": "display_data",
          "data": {
            "image/png": "[encoded data removed]",
            "text/plain": [
              "<PIL.Image.Image image mode=L size=326x326 at 0x7F445CA29320>"
            ]
          },
          "metadata": {
            "tags": []
          }
        },
        {
          "output_type": "stream",
          "text": [
            "　　　　　図A-29　1回収縮後（８近傍処理）\n"
          ],
          "name": "stdout"
        }
      ]
    },
    {
      "cell_type": "markdown",
      "metadata": {
        "id": "nVdaG2m4jes6",
        "colab_type": "text"
      },
      "source": [
        "### ４近傍処理\n"
      ]
    },
    {
      "cell_type": "code",
      "metadata": {
        "id": "mzzS5meAjn9w",
        "colab_type": "code",
        "outputId": "1d7c869d-b668-4095-dc2e-3c5b4fa35be3",
        "colab": {
          "base_uri": "https://localhost:8080/",
          "height": 704
        }
      },
      "source": [
        "膨張回数 = 1 #@param {type:\"slider\", min:1, max:10, step:1}\n",
        "収縮回数 = 1 #@param {type:\"slider\", min:1, max:10, step:1}\n",
        "\n",
        "dilation4 = cv2.erode(nbw,neiborhood4,iterations = 膨張回数 )\n",
        "cv2_imshow(250*(dilation4/255))\n",
        "print(\"　　　　　図A-30　{}回膨張後（４近傍処理）\".format(膨張回数))\n",
        "erode4 = cv2.dilate(dilation4,neiborhood8,iterations = 収縮回数 )\n",
        "cv2_imshow(250*(erode4/255))\n",
        "print(\"　　　　　図A-31　{}回収縮後（４近傍処理）\".format(収縮回数))"
      ],
      "execution_count": 18,
      "outputs": [
        {
          "output_type": "display_data",
          "data": {
            "image/png": "[encoded data removed]",
            "text/plain": [
              "<PIL.Image.Image image mode=L size=326x326 at 0x7F445C3D86D8>"
            ]
          },
          "metadata": {
            "tags": []
          }
        },
        {
          "output_type": "stream",
          "text": [
            "　　　　　図A-30　1回膨張後（４近傍処理）\n"
          ],
          "name": "stdout"
        },
        {
          "output_type": "display_data",
          "data": {
            "image/png": "[encoded data removed]",
            "text/plain": [
              "<PIL.Image.Image image mode=L size=326x326 at 0x7F445C3D8DD8>"
            ]
          },
          "metadata": {
            "tags": []
          }
        },
        {
          "output_type": "stream",
          "text": [
            "　　　　　図A-31　1回収縮後（４近傍処理）\n"
          ],
          "name": "stdout"
        }
      ]
    },
    {
      "cell_type": "markdown",
      "metadata": {
        "id": "yAui7F5yklSL",
        "colab_type": "text"
      },
      "source": [
        "## 実験３－２　収縮後膨張 \n",
        "### ８近傍処理\n"
      ]
    },
    {
      "cell_type": "code",
      "metadata": {
        "id": "3_PrWwFrk9mL",
        "colab_type": "code",
        "outputId": "2d32cbf2-683c-4c69-9f0b-c7acdc1b6c06",
        "colab": {
          "base_uri": "https://localhost:8080/",
          "height": 704
        }
      },
      "source": [
        "収縮回数 = 1 #@param {type:\"slider\", min:1, max:10, step:1}\n",
        "膨張回数 = 1 #@param {type:\"slider\", min:1, max:10, step:1}\n",
        "\n",
        "erode8 = cv2.dilate(nbw,neiborhood8,iterations = 収縮回数 )\n",
        "cv2_imshow(250*(erode8/255))\n",
        "print(\"　　　　　図A-32　{}回収縮後（８近傍処理）\".format(収縮回数))\n",
        "dilation8 = cv2.erode(erode8,neiborhood8,iterations = 膨張回数 )\n",
        "cv2_imshow(250*(dilation8/255))\n",
        "print(\"　　　　　図A-33　{}回膨張後（８近傍処理）\".format(膨張回数))"
      ],
      "execution_count": 19,
      "outputs": [
        {
          "output_type": "display_data",
          "data": {
            "image/png": "[encoded data removed]",
            "text/plain": [
              "<PIL.Image.Image image mode=L size=326x326 at 0x7F445C3D8E48>"
            ]
          },
          "metadata": {
            "tags": []
          }
        },
        {
          "output_type": "stream",
          "text": [
            "　　　　　図A-32　1回収縮後（８近傍処理）\n"
          ],
          "name": "stdout"
        },
        {
          "output_type": "display_data",
          "data": {
            "image/png": "[encoded data removed]",
            "text/plain": [
              "<PIL.Image.Image image mode=L size=326x326 at 0x7F445C3D8E48>"
            ]
          },
          "metadata": {
            "tags": []
          }
        },
        {
          "output_type": "stream",
          "text": [
            "　　　　　図A-33　1回膨張後（８近傍処理）\n"
          ],
          "name": "stdout"
        }
      ]
    },
    {
      "cell_type": "markdown",
      "metadata": {
        "id": "b1gxUCccmYot",
        "colab_type": "text"
      },
      "source": [
        "### ４近傍処理\n"
      ]
    },
    {
      "cell_type": "code",
      "metadata": {
        "id": "DvRC7f6zmdof",
        "colab_type": "code",
        "outputId": "a212e623-0b34-476c-d66c-d77adc75f542",
        "colab": {
          "base_uri": "https://localhost:8080/",
          "height": 704
        }
      },
      "source": [
        "収縮回数 = 1 #@param {type:\"slider\", min:1, max:10, step:1}\n",
        "膨張回数 = 1 #@param {type:\"slider\", min:1, max:10, step:1}\n",
        "\n",
        "erode4 = cv2.dilate(nbw,neiborhood4,iterations = 収縮回数 )\n",
        "cv2_imshow(250*(erode4/255))\n",
        "print(\"　　　　　図A-34　{}回収縮後（４近傍処理）\".format(収縮回数))\n",
        "dilation4 = cv2.erode(erode4,neiborhood8,iterations = 膨張回数 )\n",
        "cv2_imshow(250*(dilation4/255))\n",
        "print(\"　　　　　図A-35　{}回膨張後（４近傍処理）\".format(膨張回数))"
      ],
      "execution_count": 20,
      "outputs": [
        {
          "output_type": "display_data",
          "data": {
            "image/png": "[encoded data removed]",
            "text/plain": [
              "<PIL.Image.Image image mode=L size=326x326 at 0x7F445C3D8B00>"
            ]
          },
          "metadata": {
            "tags": []
          }
        },
        {
          "output_type": "stream",
          "text": [
            "　　　　　図A-34　1回収縮後（４近傍処理）\n"
          ],
          "name": "stdout"
        },
        {
          "output_type": "display_data",
          "data": {
            "image/png": "[encoded data removed]",
            "text/plain": [
              "<PIL.Image.Image image mode=L size=326x326 at 0x7F445C3D8B00>"
            ]
          },
          "metadata": {
            "tags": []
          }
        },
        {
          "output_type": "stream",
          "text": [
            "　　　　　図A-35　1回膨張後（４近傍処理）\n"
          ],
          "name": "stdout"
        }
      ]
    },
    {
      "cell_type": "markdown",
      "metadata": {
        "id": "4uihWS4Bmw9R",
        "colab_type": "text"
      },
      "source": [
        "# <font color=red>**☆☆　ここまで　☆☆**</font>"
      ]
    },
    {
      "cell_type": "markdown",
      "metadata": {
        "id": "ltWDJmHDtiqp",
        "colab_type": "text"
      },
      "source": [
        "\n",
        "\n",
        "---\n",
        "\n",
        "\n",
        "\n",
        "---\n",
        "\n",
        "\n",
        "\n",
        "---\n",
        "\n",
        "\n",
        "\n",
        "# 参考\n",
        "\n",
        "以下は課題ではありませんが、考察の参考になると思いますので、実行してみてください。\n",
        "\n",
        "円ならどうなるか？"
      ]
    },
    {
      "cell_type": "code",
      "metadata": {
        "id": "Dw3hhO3goKsg",
        "colab_type": "code",
        "outputId": "486128ef-ee0f-425b-ddab-7b9c236913a0",
        "colab": {
          "base_uri": "https://localhost:8080/",
          "height": 290
        }
      },
      "source": [
        "url = \"https://user-images.githubusercontent.com/5820803/81076832-1cecd100-8f27-11ea-9743-cf76aefbd9b2.png\" # circle\n",
        "img_path, header = urllib.request.urlretrieve(url)\n",
        "imgC = cv2.imread(img_path,1) #  画像の読み込み\n",
        "gryC =  cv2.imread(img_path,0)\n",
        "cv2_imshow(imgC)\n",
        "print(\"図参-1　ある円の画像\")\n",
        "histC = cv2.calcHist([gryC],[0],None,[256],[0,256])\n",
        "# plt.hist(gryC.ravel(),256,[0,256]); plt.show()\n",
        "# print(\"図参-2　上の画像のヒストグラム\")\n",
        "# ２階調化\n",
        "retC, bwC = cv2.threshold(gryC,0,255,cv2.THRESH_BINARY+cv2.THRESH_OTSU)\n",
        "# cv2_imshow(bwC)\n",
        "# print(\"図参-3　円の画像を判別分析法によるしきい値 {} で２階調化した画像\".format(retC))"
      ],
      "execution_count": 21,
      "outputs": [
        {
          "output_type": "display_data",
          "data": {
            "image/png": "[encoded data removed]",
            "text/plain": [
              "<PIL.Image.Image image mode=RGB size=256x256 at 0x7F445D0A7208>"
            ]
          },
          "metadata": {
            "tags": []
          }
        },
        {
          "output_type": "stream",
          "text": [
            "図参-1　ある円の画像\n"
          ],
          "name": "stdout"
        }
      ]
    },
    {
      "cell_type": "code",
      "metadata": {
        "id": "-q7nc71_o2X7",
        "colab_type": "code",
        "outputId": "083b63fa-266a-41af-b52b-d7f8ec9934db",
        "colab": {
          "base_uri": "https://localhost:8080/",
          "height": 170
        }
      },
      "source": [
        "plt.figure(figsize=(10, 4), dpi=100)\n",
        "neiborhood8 = np.ones((3,3),np.uint8)\n",
        "plt.subplot(1,6,1)\n",
        "plt.imshow(bwC)\n",
        "plt.title(\"Origin\")\n",
        "plt.axis('off')\n",
        "for i in range(1, 6):\n",
        "    dilate8 = cv2.erode(bwC,neiborhood8,iterations = i*5 )\n",
        "    plt.subplot(1, 6, i+1)\n",
        "    plt.title(str(5*i))\n",
        "    plt.imshow(dilate8)\n",
        "    plt.axis('off')"
      ],
      "execution_count": 22,
      "outputs": [
        {
          "output_type": "display_data",
          "data": {
            "image/png": "[encoded data removed]",
            "text/plain": [
              "<Figure size 1000x400 with 6 Axes>"
            ]
          },
          "metadata": {
            "tags": [],
            "needs_background": "light"
          }
        }
      ]
    },
    {
      "cell_type": "markdown",
      "metadata": {
        "id": "LwTI31MuZDN3",
        "colab_type": "text"
      },
      "source": [
        "　　　　　　　　　　　　　図参-2　膨張回数を段階的に増やしていった場合の結果観察（８近傍膨張）"
      ]
    },
    {
      "cell_type": "code",
      "metadata": {
        "id": "H9Pa1Te9pL91",
        "colab_type": "code",
        "outputId": "210a789f-d36e-420c-880a-14eba14a8090",
        "colab": {
          "base_uri": "https://localhost:8080/",
          "height": 170
        }
      },
      "source": [
        "plt.figure(figsize=(10, 4), dpi=100)\n",
        "neiborhood4 = np.array([[0, 1, 0],[1, 1, 1],[0, 1, 0]],np.uint8)\n",
        "plt.subplot(1,6,1)\n",
        "plt.imshow(bwC)\n",
        "plt.title(\"Origin\")\n",
        "plt.axis('off')\n",
        "for i in range(1, 6):\n",
        "    dilate4 = cv2.erode(bwC,neiborhood4,iterations = i*5 )\n",
        "    plt.subplot(1, 6, i+1)\n",
        "    plt.title(str(5*i))\n",
        "    plt.imshow(dilate4)\n",
        "    plt.axis('off')"
      ],
      "execution_count": 23,
      "outputs": [
        {
          "output_type": "display_data",
          "data": {
            "image/png": "[encoded data removed]",
            "text/plain": [
              "<Figure size 1000x400 with 6 Axes>"
            ]
          },
          "metadata": {
            "tags": [],
            "needs_background": "light"
          }
        }
      ]
    },
    {
      "cell_type": "markdown",
      "metadata": {
        "id": "YH6rWS86ZwNO",
        "colab_type": "text"
      },
      "source": [
        "　　　　　　　　　　　　　図参-3　膨張回数を段階的に増やしていった場合の結果観察（４近傍膨張）"
      ]
    },
    {
      "cell_type": "code",
      "metadata": {
        "id": "cFd5sY_ssjts",
        "colab_type": "code",
        "outputId": "4e75e36c-2704-4c7c-f493-9257332ec59a",
        "colab": {
          "base_uri": "https://localhost:8080/",
          "height": 170
        }
      },
      "source": [
        "plt.figure(figsize=(10, 4), dpi=100)\n",
        "neiborhood8 = np.ones((3,3),np.uint8)\n",
        "plt.subplot(1,6,1)\n",
        "plt.imshow(bwC)\n",
        "plt.title(\"Origin\")\n",
        "plt.axis('off')\n",
        "for i in range(1, 6):\n",
        "    erosion8 = cv2.dilate(bwC,neiborhood8,iterations = i*5 )\n",
        "    plt.subplot(1, 6, i+1)\n",
        "    plt.title(str(5*i))\n",
        "    plt.imshow(erosion8)\n",
        "    plt.axis('off')"
      ],
      "execution_count": 24,
      "outputs": [
        {
          "output_type": "display_data",
          "data": {
            "image/png": "[encoded data removed]",
            "text/plain": [
              "<Figure size 1000x400 with 6 Axes>"
            ]
          },
          "metadata": {
            "tags": [],
            "needs_background": "light"
          }
        }
      ]
    },
    {
      "cell_type": "markdown",
      "metadata": {
        "id": "JOnJ3r3hanpS",
        "colab_type": "text"
      },
      "source": [
        "　　　　　　　　　　　　　図参-4　収縮回数を段階的に増やしていった場合の結果観察（８近傍収縮）"
      ]
    },
    {
      "cell_type": "code",
      "metadata": {
        "id": "94IvFp6as24c",
        "colab_type": "code",
        "outputId": "9b493d95-b753-4386-f828-a76be3c9b4b8",
        "colab": {
          "base_uri": "https://localhost:8080/",
          "height": 170
        }
      },
      "source": [
        "plt.figure(figsize=(10, 4), dpi=100)\n",
        "neiborhood4 = np.array([[0, 1, 0],[1, 1, 1],[0, 1, 0]],np.uint8)\n",
        "plt.subplot(1,6,1)\n",
        "plt.imshow(bwC)\n",
        "plt.title(\"Origin\")\n",
        "plt.axis('off')\n",
        "for i in range(1, 6):\n",
        "    erosion4 = cv2.dilate(bwC,neiborhood4,iterations = i*5 )\n",
        "    plt.subplot(1, 6, i+1)\n",
        "    plt.title(str(5*i))\n",
        "    plt.imshow(erosion4)\n",
        "    plt.axis('off')"
      ],
      "execution_count": 25,
      "outputs": [
        {
          "output_type": "display_data",
          "data": {
            "image/png": "[encoded data removed]",
            "text/plain": [
              "<Figure size 1000x400 with 6 Axes>"
            ]
          },
          "metadata": {
            "tags": [],
            "needs_background": "light"
          }
        }
      ]
    },
    {
      "cell_type": "markdown",
      "metadata": {
        "id": "45eRVvx3a4D_",
        "colab_type": "text"
      },
      "source": [
        "　　　　　　　　　　　　　図参-5　収縮回数を段階的に増やしていった場合の結果観察（４近傍収縮）"
      ]
    }
  ]
}