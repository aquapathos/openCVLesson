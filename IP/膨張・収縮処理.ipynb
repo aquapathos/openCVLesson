{
  "nbformat": 4,
  "nbformat_minor": 0,
  "metadata": {
    "colab": {
      "name": "膨張・収縮処理",
      "provenance": [],
      "collapsed_sections": [],
      "toc_visible": true,
      "include_colab_link": true
    },
    "kernelspec": {
      "name": "python3",
      "display_name": "Python 3"
    }
  },
  "cells": [
    {
      "cell_type": "markdown",
      "metadata": {
        "id": "view-in-github",
        "colab_type": "text"
      },
      "source": [
        "<a href=\"https://colab.research.google.com/github/aquapathos/openCVLesson/blob/master/IP/%E8%86%A8%E5%BC%B5%E3%83%BB%E5%8F%8E%E7%B8%AE%E5%87%A6%E7%90%86.ipynb\" target=\"_parent\"><img src=\"https://colab.research.google.com/assets/colab-badge.svg\" alt=\"Open In Colab\"/></a>"
      ]
    },
    {
      "cell_type": "markdown",
      "metadata": {
        "id": "Opj2V9kxUPHk",
        "colab_type": "text"
      },
      "source": [
        "# ２値画像の膨張・収縮\n",
        "## **目的**\n",
        "\n",
        "　実際の画像に対して２値の膨張・収縮処理を行い、その基本的性質を理解しましょう。\n",
        "\n",
        "## **基本的な膨張・収縮処理**\n",
        "\n",
        "- 膨張処理  \n",
        "- 収縮処理  \n",
        "- 膨張収縮によるノイズ除去  \n",
        "\n",
        "　このそれぞれに\n",
        "- ８近傍処理\n",
        "- ４近傍処理  \n",
        "\n",
        "があり、結果は違ってくる。\n",
        "\n",
        "**膨張収縮によるノイズ除去**は、\n",
        "\n",
        "- 膨張後収縮\n",
        "- 収縮後膨張\n",
        "\n",
        "のバリエーションがある。\n",
        "\n",
        "## **課題**\n",
        "\n",
        "- 用意されたプログラムを用いて、上に挙げた各処理を行い、各処理についての、８近傍処理と４近傍処理の結果の違いを観察し、その性質について考察する。  \n",
        "- ノイズ除去の実験については、膨張・収縮の処理回数をさまざまに変えてみて、自分の選んだ入力画像の場合の最適な組み合わせを探す。最適な組み合わせとその他いくつかの結果を報告する。\n",
        "\n",
        "<font color=red size=2>　課題内容にふさわしい処理対象画像を用意して実験を行うこと。適当に作ったら考察がやりにくくなる。違いが観察しやすくなるような画像を選ぶセンスが重要。</font>\n",
        "\n",
        "## **レポート**\n",
        "\n",
        "- 実験結果の報告（画像だけのレポートは不可。きちんと文書化すること）\n",
        "- 上の課題で上げた考察をきちんと記述すること。\n",
        "\n",
        "## **実験要領**\n",
        "\n",
        "#### 処理対象画像の準備\n",
        "\n",
        "- ２値画像処理ですから、白黒の画像でないといけません。\n",
        "- あまり複雑だと４近傍処理と８近傍処理の違いが分かりにくいので、比較的単純な図形の方がよい。\n",
        "- ペイントソフトで作るか、白黒のアイコンなどのフリー素材（[例](https://icooon-mono.com/) )の中から選ぶとよいでしょう。\n",
        "- 背景が白であることが前提となっています。逆の場合は、アップロード時に、**反転** させることができます。\n",
        "\n",
        "なお、入力画像は  256x256 にリサイズされます。\n",
        "\n",
        "#### <font color=orange>実験手順についての注意</font>\n",
        "\n",
        "- 配布されている画像 **cross.jpg** は処理対象画像のサンプルです。その画像で一度最後まで実行し、実験内容を把握してください。\n",
        "- 実験レポートには、自分で作った（選んだ）画像を使って実行した結果を使ってください。\n",
        "- プログラムには依存関係があります。上から順に実行することが前提となっています。途中を飛ばして実行することはできません。（結果が出ても、前提がくるっているので、正しい結果ではありません）\n",
        "\n",
        "\n",
        "\n",
        "\n"
      ]
    },
    {
      "cell_type": "code",
      "metadata": {
        "id": "37kBCrVTy93a",
        "colab_type": "code",
        "colab": {}
      },
      "source": [
        "import urllib.request\n",
        "import cv2\n",
        "import numpy as np\n",
        "from matplotlib import pyplot as plt\n",
        "from google.colab.patches import cv2_imshow\n",
        "from google.colab import files\n",
        "\n",
        "# url = \"https://user-images.githubusercontent.com/5820803/81074733-6556bf80-8f24-11ea-87c8-937e09b417ac.jpg\" # cross\n",
        "#img_path, header = urllib.request.urlretrieve(url)\n",
        "# img = cv2.imread(img_path,1) #  画像の読み込み\n",
        "# gry =  cv2.imread(img_path,0)"
      ],
      "execution_count": 0,
      "outputs": []
    },
    {
      "cell_type": "markdown",
      "metadata": {
        "id": "AhtiiRJa4S-6",
        "colab_type": "text"
      },
      "source": [
        "次のセルを実行すると、「ファイル選択」ボタンが表示されるので、すかさず処理対象画像をアップロードしてください。  \n",
        "\n",
        "- \n",
        "１回目は、配布されている、**cross.jpg**　という画像をアップロードして、<font color=red>**☆☆　ここまで　☆☆**</font> を実行し、どんな実験なのかを理解してください。  \n",
        "- ２回目は、自分で作った（選んだ）画像をアップロードして実験してください。\n",
        "\n",
        "\n",
        "\n",
        "<img src=\"https://user-images.githubusercontent.com/5820803/81147895-325d0c00-8fb6-11ea-80c9-0f4fcb5f8d24.png\" width = 400></img>\n",
        "\n",
        "## 処理対象画像の前提\n",
        "\n",
        "<font color=red>背景が白、対象が黒であることを前提としています。\n",
        "\n",
        "背景が黒の場合は、**反転** にチェックを入れてセルを実行してください。></font>"
      ]
    },
    {
      "cell_type": "code",
      "metadata": {
        "id": "Ad1Xom3ReVOF",
        "colab_type": "code",
        "colab": {
          "resources": {
            "http://localhost:8080/nbextensions/google.colab/files.js": {
              "data": "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",
              "ok": true,
              "headers": [
                [
                  "content-type",
                  "application/javascript"
                ]
              ],
              "status": 200,
              "status_text": ""
            }
          },
          "base_uri": "https://localhost:8080/",
          "height": 627
        },
        "outputId": "218014f0-fd06-4003-8eb1-e29a897690da"
      },
      "source": [
        "filename = list(files.upload())[0]\n",
        "反転 = False #@param {type:\"boolean\", min:1, max:30, step:1}\n",
        "img = cv2.imread(filename,1) # カラーで読み込み\n",
        "gry = cv2.cvtColor(img,cv2.COLOR_BGR2GRAY) # グレイスケールに変換\n",
        "if 反転:\n",
        "  gry = 255-gry\n",
        "gry = cv2.resize(gry,(256,256)) # 256x256にリサイズ\n",
        "cv2_imshow(img)\n",
        "print(\"図A-1　cross.jpg\")\n",
        "hist = cv2.calcHist([gry],[0],None,[256],[0,256])\n",
        "plt.hist(gry.ravel(),256,[0,256]); plt.show()\n",
        "print(\"図A-2　coss.jpg のヒストグラム\")"
      ],
      "execution_count": 2,
      "outputs": [
        {
          "output_type": "display_data",
          "data": {
            "text/html": [
              "\n",
              "     <input type=\"file\" id=\"files-cca24deb-17a9-4081-b33f-649411a98d83\" name=\"files[]\" multiple disabled />\n",
              "     <output id=\"result-cca24deb-17a9-4081-b33f-649411a98d83\">\n",
              "      Upload widget is only available when the cell has been executed in the\n",
              "      current browser session. Please rerun this cell to enable.\n",
              "      </output>\n",
              "      <script src=\"/nbextensions/google.colab/files.js\"></script> "
            ],
            "text/plain": [
              "<IPython.core.display.HTML object>"
            ]
          },
          "metadata": {
            "tags": []
          }
        },
        {
          "output_type": "stream",
          "text": [
            "Saving cross.jpg to cross (3).jpg\n"
          ],
          "name": "stdout"
        },
        {
          "output_type": "display_data",
          "data": {
            "image/png": "[encoded data removed]",
            "text/plain": [
              "<PIL.Image.Image image mode=RGB size=256x266 at 0x7F2EE3F92668>"
            ]
          },
          "metadata": {
            "tags": []
          }
        },
        {
          "output_type": "stream",
          "text": [
            "図A-1　cross.jpg\n"
          ],
          "name": "stdout"
        },
        {
          "output_type": "display_data",
          "data": {
            "image/png": "[encoded data removed]",
            "text/plain": [
              "<Figure size 432x288 with 1 Axes>"
            ]
          },
          "metadata": {
            "tags": [],
            "needs_background": "light"
          }
        },
        {
          "output_type": "stream",
          "text": [
            "図A-2　coss.jpg のヒストグラム\n"
          ],
          "name": "stdout"
        }
      ]
    },
    {
      "cell_type": "code",
      "metadata": {
        "id": "srbsMmYYz-XD",
        "colab_type": "code",
        "outputId": "34bd6b3c-749d-4a3b-c8d4-91c6eaba447e",
        "colab": {
          "base_uri": "https://localhost:8080/",
          "height": 290
        }
      },
      "source": [
        "# ２階調化\n",
        "ret, bw = cv2.threshold(gry,0,255,cv2.THRESH_BINARY+cv2.THRESH_OTSU)\n",
        "cv2_imshow(bw)\n",
        "print(\"図A-3　coss.jpg を判別分析法によるしきい値 {} で２階調化した画像\".format(ret))"
      ],
      "execution_count": 3,
      "outputs": [
        {
          "output_type": "display_data",
          "data": {
            "image/png": "[encoded data removed]",
            "text/plain": [
              "<PIL.Image.Image image mode=L size=256x256 at 0x7F2EE3F86710>"
            ]
          },
          "metadata": {
            "tags": []
          }
        },
        {
          "output_type": "stream",
          "text": [
            "図A-3　coss.jpg を判別分析法によるしきい値 124.0 で２階調化した画像\n"
          ],
          "name": "stdout"
        }
      ]
    },
    {
      "cell_type": "markdown",
      "metadata": {
        "id": "LEiGx4G_Cbcv",
        "colab_type": "text"
      },
      "source": [
        "# 実験対象画像の生成\n",
        "\n",
        "1. 上記２値画像のマージンを増やした画像\n",
        "2. 45度回転した画像\n",
        "3. ノイズを加えた画像\n",
        "\n",
        "を生成する。\n",
        "\n",
        "マージンを増やすのは、回転時と膨張処理時に図形が表示領域外に出る可能性があるため。"
      ]
    },
    {
      "cell_type": "code",
      "metadata": {
        "id": "v_jEx6cS0JeG",
        "colab_type": "code",
        "outputId": "25e97310-ec2d-4af7-8a0b-ef80d2b27fd4",
        "colab": {
          "base_uri": "https://localhost:8080/",
          "height": 1000
        }
      },
      "source": [
        "NNoise = 1000 # ノイズの個数\n",
        "Margin = 70\n",
        "\n",
        "def 実験用画像生成(bw):\n",
        "    # 画像の高さと幅\n",
        "    height = bw.shape[0]                         \n",
        "    width = bw.shape[1]  \n",
        "\n",
        "    # 余白を増やす\n",
        "    timg = 255*np.ones((height+Margin,width+Margin)) # 真っ白の画像\n",
        "    HM = Margin//2\n",
        "    timg[HM:HM+height,HM:HM+width] = bw # 背景が白なので白黒反転\n",
        "\n",
        "    # 中心                          \n",
        "    center = (width//2+HM, height//2+HM)\n",
        "    # 回転行列を作成\n",
        "    rmatrix = cv2.getRotationMatrix2D(center, -45.0 , 1.0)\n",
        "    #アフィン変換で４５度回転した画像を作成\n",
        "    bw45 = (255-cv2.warpAffine(255-timg, rmatrix,(width+Margin,height+Margin)))\n",
        "\n",
        "    # ノイズ画像の生成\n",
        "    nbw = timg.copy()\n",
        "    pts_x = np.random.randint(0, width+Margin-1 , NNoise) # 0から(col-1)までの乱数をNNoise個作る\n",
        "    pts_y = np.random.randint(0, height+Margin-1 , NNoise)\n",
        "    for n in range(NNoise):\n",
        "      x = pts_x[n]\n",
        "      y = pts_y[n]\n",
        "      for i in range(np.random.randint(0, 5)):\n",
        "        rx = np.random.randint(-1, 2)\n",
        "        ry = np.random.randint(-1, 2)\n",
        "        x = x if x + rx < 0 or x + rx >= width+Margin else x + rx\n",
        "        y = y if y + ry < 0 or y + ry >= height+Margin else y + ry\n",
        "        nbw[y,x] = 255-nbw[y,x] # 反転する\n",
        "\n",
        "    return timg,bw45,nbw\n",
        "\n",
        "bw0,bw45,nbw = 実験用画像生成(bw)\n",
        "\n",
        "cv2_imshow(bw0)\n",
        "print(\"図A-4　マージンを増した２値画像\")\n",
        "\n",
        "cv2_imshow(bw45)\n",
        "print(\"図A-5　45度回転した画像\")\n",
        "\n",
        "cv2_imshow(nbw)\n",
        "print(\"図A-6　ノイズを加えた画像\")"
      ],
      "execution_count": 4,
      "outputs": [
        {
          "output_type": "display_data",
          "data": {
            "image/png": "[encoded data removed]",
            "text/plain": [
              "<PIL.Image.Image image mode=L size=326x326 at 0x7F2EE37762E8>"
            ]
          },
          "metadata": {
            "tags": []
          }
        },
        {
          "output_type": "stream",
          "text": [
            "図A-4　マージンを増した２値画像\n"
          ],
          "name": "stdout"
        },
        {
          "output_type": "display_data",
          "data": {
            "image/png": "[encoded data removed]",
            "text/plain": [
              "<PIL.Image.Image image mode=L size=326x326 at 0x7F2EE37762B0>"
            ]
          },
          "metadata": {
            "tags": []
          }
        },
        {
          "output_type": "stream",
          "text": [
            "図A-5　45度回転した画像\n"
          ],
          "name": "stdout"
        },
        {
          "output_type": "display_data",
          "data": {
            "image/png": "[encoded data removed]",
            "text/plain": [
              "<PIL.Image.Image image mode=L size=326x326 at 0x7F2EE37762E8>"
            ]
          },
          "metadata": {
            "tags": []
          }
        },
        {
          "output_type": "stream",
          "text": [
            "図A-6　ノイズを加えた画像\n"
          ],
          "name": "stdout"
        }
      ]
    },
    {
      "cell_type": "markdown",
      "metadata": {
        "id": "7IA1AnFc7yy8",
        "colab_type": "text"
      },
      "source": [
        "# 実験１　膨張処理\n",
        "\n",
        "収縮はErosion，膨張はDilationであるが，opencv では，図が白，地が黒であることが前提のネーミングとなっている．\n",
        "ここでは図が黒，地が白であるので，膨張と収縮が逆になることに注意せよ．\n",
        "\n",
        "\n",
        "## 実験１－１  　８近傍の膨張\n",
        "\n",
        "下のプログラムは、膨張処理を指定回数繰り返し実行するプログラムである。\n",
        "\n",
        "デフォルトは10回としてあるが、任意の回数に変更できる。\n",
        "\n",
        "繰り返し回数により、結果は変わるので、レポートには必ず回数を記述すること。\n",
        "\n",
        "なお、背景がまっ白だと境界が分かりにくいのでわざと暗く表示している。\n",
        "\n",
        "\n",
        "### 10回繰り返し"
      ]
    },
    {
      "cell_type": "code",
      "metadata": {
        "id": "CrXF5WhF3dAz",
        "colab_type": "code",
        "outputId": "f17136d0-f44f-4a4a-a482-b3c02feb3617",
        "colab": {
          "base_uri": "https://localhost:8080/",
          "height": 703
        }
      },
      "source": [
        "繰り返し回数 = 10 #@param {type:\"slider\", min:1, max:30, step:1}\n",
        "neiborhood8 = np.ones((3,3),np.uint8)\n",
        "dilation8 = cv2.erode(bw0,neiborhood8,iterations = 繰り返し回数 )\n",
        "dilation8r45 = cv2.erode(bw45,neiborhood8,iterations = 繰り返し回数 )\n",
        "cv2_imshow(250*(dilation8/255))\n",
        "print(\"図A-7　cross の {}回膨張　８近傍処理\".format(繰り返し回数 ))\n",
        "cv2_imshow(250*(dilation8r45/255))\n",
        "print(\"図A-8　45度回転画像 の {}回膨張　８近傍処理\".format(繰り返し回数))"
      ],
      "execution_count": 5,
      "outputs": [
        {
          "output_type": "display_data",
          "data": {
            "image/png": "[encoded data removed]",
            "text/plain": [
              "<PIL.Image.Image image mode=L size=326x326 at 0x7F2EE3768DA0>"
            ]
          },
          "metadata": {
            "tags": []
          }
        },
        {
          "output_type": "stream",
          "text": [
            "図A-7　cross の 10回膨張　８近傍処理\n"
          ],
          "name": "stdout"
        },
        {
          "output_type": "display_data",
          "data": {
            "image/png": "[encoded data removed]",
            "text/plain": [
              "<PIL.Image.Image image mode=L size=326x326 at 0x7F2EE3768BE0>"
            ]
          },
          "metadata": {
            "tags": []
          }
        },
        {
          "output_type": "stream",
          "text": [
            "図A-8　45度回転画像 の 10回膨張　８近傍処理\n"
          ],
          "name": "stdout"
        }
      ]
    },
    {
      "cell_type": "markdown",
      "metadata": {
        "id": "haVxM4ENF44c",
        "colab_type": "text"
      },
      "source": [
        "### 25回繰り返し"
      ]
    },
    {
      "cell_type": "code",
      "metadata": {
        "id": "jJNGNdawFzpP",
        "colab_type": "code",
        "outputId": "e98e2c6f-152a-45a3-9fe6-31d5d93b115b",
        "colab": {
          "base_uri": "https://localhost:8080/",
          "height": 703
        }
      },
      "source": [
        "itt = 25 #@param {type:\"slider\", min:1, max:30, step:1}\n",
        "neiborhood8 = np.ones((3,3),np.uint8)\n",
        "dilation8 = cv2.erode(bw0,neiborhood8,iterations = itt)\n",
        "dilation8r45 = cv2.erode(bw45,neiborhood8,iterations = itt)\n",
        "cv2_imshow(250*(dilation8/255))\n",
        "print(\"図A-9　cross の {}回膨張 ８近傍処理\".format(itt))\n",
        "cv2_imshow(250*(dilation8r45/255))\n",
        "print(\"図A-10　45度回転画像 の {}回膨張　８近傍処理\".format(itt))"
      ],
      "execution_count": 6,
      "outputs": [
        {
          "output_type": "display_data",
          "data": {
            "image/png": "[encoded data removed]",
            "text/plain": [
              "<PIL.Image.Image image mode=L size=326x326 at 0x7F2EE3768CC0>"
            ]
          },
          "metadata": {
            "tags": []
          }
        },
        {
          "output_type": "stream",
          "text": [
            "図A-9　cross の 25回膨張 ８近傍処理\n"
          ],
          "name": "stdout"
        },
        {
          "output_type": "display_data",
          "data": {
            "image/png": "[encoded data removed]",
            "text/plain": [
              "<PIL.Image.Image image mode=L size=326x326 at 0x7F2EE3768CC0>"
            ]
          },
          "metadata": {
            "tags": []
          }
        },
        {
          "output_type": "stream",
          "text": [
            "図A-10　45度回転画像 の 25回膨張　８近傍処理\n"
          ],
          "name": "stdout"
        }
      ]
    },
    {
      "cell_type": "markdown",
      "metadata": {
        "id": "fQwBY89vZvwL",
        "colab_type": "text"
      },
      "source": [
        "### 徐々に膨張回数を増やして変化の様子を観測してみる（８近傍膨張処理）"
      ]
    },
    {
      "cell_type": "code",
      "metadata": {
        "id": "aH0MgBCnVA2B",
        "colab_type": "code",
        "outputId": "ad90d296-1001-47b6-97f7-decd456e8d89",
        "colab": {
          "base_uri": "https://localhost:8080/",
          "height": 334
        }
      },
      "source": [
        "def stepuperode8(bw,bw45):\n",
        "    plt.figure(figsize=(10, 4), dpi=100)\n",
        "    neiborhood8 = np.ones((3,3),np.uint8)\n",
        "    plt.subplot(2,6,1)\n",
        "    plt.imshow(bw)\n",
        "    plt.title(\"Origin\")\n",
        "    plt.axis('off')\n",
        "    for i in range(1, 6):\n",
        "        dilation8 = cv2.erode(bw,neiborhood8,iterations = i*5 )\n",
        "        plt.subplot(2, 6, i+1)\n",
        "        plt.title(str(5*i))\n",
        "        plt.imshow(dilation8)\n",
        "        plt.axis('off')\n",
        "        dilation8r45 = cv2.erode(bw45,neiborhood8,iterations = i*5)\n",
        "        plt.subplot(2, 6, 6+i+1)\n",
        "        plt.title(str(5*i))\n",
        "        plt.imshow(dilation8r45)\n",
        "        plt.axis('off')\n",
        "\n",
        "stepuperode8(bw0,bw45)"
      ],
      "execution_count": 7,
      "outputs": [
        {
          "output_type": "display_data",
          "data": {
            "image/png": "[encoded data removed]",
            "text/plain": [
              "<Figure size 1000x400 with 11 Axes>"
            ]
          },
          "metadata": {
            "tags": [],
            "needs_background": "light"
          }
        }
      ]
    },
    {
      "cell_type": "markdown",
      "metadata": {
        "id": "XxjKgeEKa2P5",
        "colab_type": "text"
      },
      "source": [
        "\n",
        " 　　　　　　　　　　　　　図A-11　膨張回数を段階的に増やしていった場合の結果観察（８近傍膨張処理 )\n"
      ]
    },
    {
      "cell_type": "markdown",
      "metadata": {
        "id": "IowfWbRSGHRf",
        "colab_type": "text"
      },
      "source": [
        "## 実験１ー２  ４近傍膨張\n",
        "### 10回繰り返し\n",
        "\n",
        "※　８近傍処理との比較のため、繰り返し回数は同じにすること。"
      ]
    },
    {
      "cell_type": "code",
      "metadata": {
        "id": "Ld8YLlRi5zHA",
        "colab_type": "code",
        "outputId": "569856df-2239-4cc0-ae6b-015f6a65be7d",
        "colab": {
          "base_uri": "https://localhost:8080/",
          "height": 703
        }
      },
      "source": [
        "itt = 10 #@param {type:\"slider\", min:1, max:30, step:1}\n",
        "neiborhood4 = np.array([[0, 1, 0],[1, 1, 1],[0, 1, 0]],np.uint8)\n",
        "dilation4 = cv2.erode(bw0,neiborhood4,iterations = itt)\n",
        "dilation4r45 = cv2.erode(bw45,neiborhood4,iterations = itt)\n",
        "cv2_imshow(250*(dilation4/255))\n",
        "print(\"図A-12　cross の {}回膨張　４近傍処理\".format(itt))\n",
        "cv2_imshow(250*(dilation4r45/255))\n",
        "print(\"図A-13　45度回転画像 の {}回膨張　４近傍処理\".format(itt))"
      ],
      "execution_count": 8,
      "outputs": [
        {
          "output_type": "display_data",
          "data": {
            "image/png": "[encoded data removed]",
            "text/plain": [
              "<PIL.Image.Image image mode=L size=326x326 at 0x7F2EE3768400>"
            ]
          },
          "metadata": {
            "tags": []
          }
        },
        {
          "output_type": "stream",
          "text": [
            "図A-12　cross の 10回膨張　４近傍処理\n"
          ],
          "name": "stdout"
        },
        {
          "output_type": "display_data",
          "data": {
            "image/png": "[encoded data removed]",
            "text/plain": [
              "<PIL.Image.Image image mode=L size=326x326 at 0x7F2EE3768550>"
            ]
          },
          "metadata": {
            "tags": []
          }
        },
        {
          "output_type": "stream",
          "text": [
            "図A-13　45度回転画像 の 10回膨張　４近傍処理\n"
          ],
          "name": "stdout"
        }
      ]
    },
    {
      "cell_type": "markdown",
      "metadata": {
        "id": "7HdvWiCtGcyY",
        "colab_type": "text"
      },
      "source": [
        "### 25回繰り返し\n",
        "\n",
        "※　８近傍処理との比較のため、繰り返し回数は同じにすること。"
      ]
    },
    {
      "cell_type": "code",
      "metadata": {
        "id": "g9nmbXmR--R2",
        "colab_type": "code",
        "outputId": "1731772d-71c3-4678-b2d2-3ddb5ad5a51a",
        "colab": {
          "base_uri": "https://localhost:8080/",
          "height": 703
        }
      },
      "source": [
        "itt = 25 #@param {type:\"slider\", min:1, max:30, step:1}\n",
        "neiborhood4 = np.array([[0, 1, 0],[1, 1, 1],[0, 1, 0]],np.uint8)\n",
        "dilation4 = cv2.erode(bw0,neiborhood4,iterations = itt)\n",
        "dilation4r45 = cv2.erode(bw45,neiborhood4,iterations = itt)\n",
        "cv2_imshow(250*(dilation4/255))\n",
        "print(\"図A-14　cross の {}回膨張　４近傍処理\".format(itt))\n",
        "cv2_imshow(250*(dilation4r45/255))\n",
        "print(\"図A-15　45度回転画像 の {}回膨張　４近傍処理\".format(itt))"
      ],
      "execution_count": 9,
      "outputs": [
        {
          "output_type": "display_data",
          "data": {
            "image/png": "[encoded data removed]",
            "text/plain": [
              "<PIL.Image.Image image mode=L size=326x326 at 0x7F2EE3768358>"
            ]
          },
          "metadata": {
            "tags": []
          }
        },
        {
          "output_type": "stream",
          "text": [
            "図A-14　cross の 25回膨張　４近傍処理\n"
          ],
          "name": "stdout"
        },
        {
          "output_type": "display_data",
          "data": {
            "image/png": "[encoded data removed]",
            "text/plain": [
              "<PIL.Image.Image image mode=L size=326x326 at 0x7F2EE3768358>"
            ]
          },
          "metadata": {
            "tags": []
          }
        },
        {
          "output_type": "stream",
          "text": [
            "図A-15　45度回転画像 の 25回膨張　４近傍処理\n"
          ],
          "name": "stdout"
        }
      ]
    },
    {
      "cell_type": "markdown",
      "metadata": {
        "id": "wukS-zR4SVWn",
        "colab_type": "text"
      },
      "source": [
        "### 徐々に膨張回数を増やして変化の様子を観測してみる（４近傍膨張処理）"
      ]
    },
    {
      "cell_type": "code",
      "metadata": {
        "id": "xty1XX84bi1n",
        "colab_type": "code",
        "outputId": "2e87fc67-7042-4235-c8bb-9ece455bd683",
        "colab": {
          "base_uri": "https://localhost:8080/",
          "height": 334
        }
      },
      "source": [
        "def stepuperode4(bw,bw45):\n",
        "    plt.figure(figsize=(10, 4), dpi=100)\n",
        "    plt.subplot(2,6,1)\n",
        "    plt.imshow(bw)\n",
        "    plt.title(\"Origin\")\n",
        "    plt.axis('off')\n",
        "    for i in range(1, 6):\n",
        "        dilation4 = cv2.erode(bw,neiborhood4,iterations = i*5 )\n",
        "        plt.subplot(2, 6, i+1)\n",
        "        plt.title(str(5*i))\n",
        "        plt.imshow(dilation4)\n",
        "        plt.axis('off')\n",
        "        dilation4r45 = cv2.erode(bw45,neiborhood4,iterations = i*5)\n",
        "        plt.subplot(2, 6, 6+i+1)\n",
        "        plt.title(str(5*i))\n",
        "        plt.imshow(dilation4r45)\n",
        "        plt.axis('off')\n",
        "\n",
        "stepuperode4(bw0,bw45)"
      ],
      "execution_count": 10,
      "outputs": [
        {
          "output_type": "display_data",
          "data": {
            "image/png": "[encoded data removed]",
            "text/plain": [
              "<Figure size 1000x400 with 11 Axes>"
            ]
          },
          "metadata": {
            "tags": [],
            "needs_background": "light"
          }
        }
      ]
    },
    {
      "cell_type": "markdown",
      "metadata": {
        "id": "nz5oP8t7b34G",
        "colab_type": "text"
      },
      "source": [
        " 　　　　　　　　　　　　　図A-16　膨張回数を段階的に増やしていった場合の結果観察（４近傍膨張処理 )"
      ]
    },
    {
      "cell_type": "markdown",
      "metadata": {
        "id": "GzCIlZiDHLwE",
        "colab_type": "text"
      },
      "source": [
        "# 実験２　収縮処理\n",
        "\n",
        "## 実験２－１　8近傍収縮\n",
        "\n",
        "### 10回収縮"
      ]
    },
    {
      "cell_type": "code",
      "metadata": {
        "id": "pAg9r2zfHSaZ",
        "colab_type": "code",
        "outputId": "f5acdf0a-ff5b-4aed-e980-85a5d031fd2e",
        "colab": {
          "base_uri": "https://localhost:8080/",
          "height": 703
        }
      },
      "source": [
        "itt = 10 #@param {type:\"slider\", min:1, max:30, step:1}\n",
        "neiborhood8 = np.ones((3,3),np.uint8)\n",
        "erosion8 = cv2.dilate(bw0,neiborhood8,iterations = itt)\n",
        "erosion8r45 = cv2.dilate(bw45,neiborhood8,iterations = itt)\n",
        "cv2_imshow(250*(erosion8/255))\n",
        "print(\"図A-17　cross の {}回収縮　８近傍処理\".format(itt))\n",
        "cv2_imshow(250*(erosion8r45/255))\n",
        "print(\"図A-18　45度回転画像 の {}回収縮　８近傍処理\".format(itt))"
      ],
      "execution_count": 11,
      "outputs": [
        {
          "output_type": "display_data",
          "data": {
            "image/png": "[encoded data removed]",
            "text/plain": [
              "<PIL.Image.Image image mode=L size=326x326 at 0x7F2EE375AA20>"
            ]
          },
          "metadata": {
            "tags": []
          }
        },
        {
          "output_type": "stream",
          "text": [
            "図A-17　cross の 10回収縮　８近傍処理\n"
          ],
          "name": "stdout"
        },
        {
          "output_type": "display_data",
          "data": {
            "image/png": "[encoded data removed]",
            "text/plain": [
              "<PIL.Image.Image image mode=L size=326x326 at 0x7F2EE375AA20>"
            ]
          },
          "metadata": {
            "tags": []
          }
        },
        {
          "output_type": "stream",
          "text": [
            "図A-18　45度回転画像 の 10回収縮　８近傍処理\n"
          ],
          "name": "stdout"
        }
      ]
    },
    {
      "cell_type": "markdown",
      "metadata": {
        "id": "NVzFCPWdH9s6",
        "colab_type": "text"
      },
      "source": [
        "### 25回収縮"
      ]
    },
    {
      "cell_type": "code",
      "metadata": {
        "id": "aGqyD5i6GlqT",
        "colab_type": "code",
        "outputId": "2090b77c-a671-4616-da76-0c168acc6e7d",
        "colab": {
          "base_uri": "https://localhost:8080/",
          "height": 703
        }
      },
      "source": [
        "itt = 25 #@param {type:\"slider\", min:1, max:30, step:1}\n",
        "neiborhood8 = np.ones((3,3),np.uint8)\n",
        "erosion8 = cv2.dilate(bw0,neiborhood8,iterations = itt)\n",
        "erosion8r45 = cv2.dilate(bw45,neiborhood8,iterations = itt)\n",
        "cv2_imshow(250*(erosion8/255))\n",
        "print(\"図A-19　cross の {}回収縮　８近傍処理\".format(itt))\n",
        "cv2_imshow(250*(erosion8r45/255))\n",
        "print(\"図A-20　45度回転画像 の {}回収縮　８近傍処理\".format(itt))"
      ],
      "execution_count": 12,
      "outputs": [
        {
          "output_type": "display_data",
          "data": {
            "image/png": "[encoded data removed]",
            "text/plain": [
              "<PIL.Image.Image image mode=L size=326x326 at 0x7F2EE375AA20>"
            ]
          },
          "metadata": {
            "tags": []
          }
        },
        {
          "output_type": "stream",
          "text": [
            "図A-19　cross の 25回収縮　８近傍処理\n"
          ],
          "name": "stdout"
        },
        {
          "output_type": "display_data",
          "data": {
            "image/png": "[encoded data removed]",
            "text/plain": [
              "<PIL.Image.Image image mode=L size=326x326 at 0x7F2EE375AA20>"
            ]
          },
          "metadata": {
            "tags": []
          }
        },
        {
          "output_type": "stream",
          "text": [
            "図A-20　45度回転画像 の 25回収縮　８近傍処理\n"
          ],
          "name": "stdout"
        }
      ]
    },
    {
      "cell_type": "markdown",
      "metadata": {
        "id": "k3uHLdxlWAvX",
        "colab_type": "text"
      },
      "source": [
        "### 徐々に収縮回数を増やして変化の様子を観測してみる（８近傍収縮処理）"
      ]
    },
    {
      "cell_type": "code",
      "metadata": {
        "id": "EFYKq9H-b-HT",
        "colab_type": "code",
        "outputId": "812706f7-d745-4080-a0da-65e28f5c2837",
        "colab": {
          "base_uri": "https://localhost:8080/",
          "height": 334
        }
      },
      "source": [
        "def stepupdilate8(bw,bw45):\n",
        "    plt.figure(figsize=(10, 4), dpi=100)\n",
        "    neiborhood8 = np.ones((3,3),np.uint8)\n",
        "    plt.subplot(2,6,1)\n",
        "    plt.imshow(bw)\n",
        "    plt.title(\"Origin\")\n",
        "    plt.axis('off')\n",
        "    for i in range(1, 6):\n",
        "        erosion8 = cv2.dilate(bw,neiborhood8,iterations = i*5 )\n",
        "        plt.subplot(2, 6, i+1)\n",
        "        plt.title(str(5*i))\n",
        "        plt.imshow(erosion8)\n",
        "        plt.axis('off')\n",
        "        erosion8r45 = cv2.dilate(bw45,neiborhood8,iterations = i*5)\n",
        "        plt.subplot(2, 6, 6+i+1)\n",
        "        plt.title(str(5*i))\n",
        "        plt.imshow(erosion8r45)\n",
        "        plt.axis('off')\n",
        "\n",
        "stepupdilate8(bw0,bw45)"
      ],
      "execution_count": 13,
      "outputs": [
        {
          "output_type": "display_data",
          "data": {
            "image/png": "[encoded data removed]",
            "text/plain": [
              "<Figure size 1000x400 with 11 Axes>"
            ]
          },
          "metadata": {
            "tags": [],
            "needs_background": "light"
          }
        }
      ]
    },
    {
      "cell_type": "markdown",
      "metadata": {
        "id": "Kez3i7klcX_V",
        "colab_type": "text"
      },
      "source": [
        "\n",
        "\n",
        "---\n",
        "\n",
        "　　　　　　　　　図A-21　収縮回数を段階的に増やしていった場合の結果観察（８近傍収縮 )"
      ]
    },
    {
      "cell_type": "markdown",
      "metadata": {
        "id": "C1btb18JIhsA",
        "colab_type": "text"
      },
      "source": [
        "## 実験２－２　　４近傍収縮\n",
        "\n",
        "### 10回収縮"
      ]
    },
    {
      "cell_type": "code",
      "metadata": {
        "id": "fLzK28kvIpgV",
        "colab_type": "code",
        "outputId": "0c590f50-9fca-4f93-f854-3205cea46621",
        "colab": {
          "base_uri": "https://localhost:8080/",
          "height": 703
        }
      },
      "source": [
        "itt = 10 #@param {type:\"slider\", min:1, max:30, step:1}\n",
        "neiborhood4 = np.array([[0, 1, 0],[1, 1, 1],[0, 1, 0]],np.uint8)\n",
        "erosion4 = cv2.dilate(bw0,neiborhood4,iterations = itt)\n",
        "erosion4r45 = cv2.dilate(bw45,neiborhood4,iterations = itt)\n",
        "cv2_imshow(250*(erosion4/255))\n",
        "print(\"図A-22　cross の {}回収縮　４近傍処理\".format(itt))\n",
        "cv2_imshow(250*(erosion4r45/255))\n",
        "print(\"図A-23　45度回転画像 の {}回収縮　４近傍処理\".format(itt))"
      ],
      "execution_count": 14,
      "outputs": [
        {
          "output_type": "display_data",
          "data": {
            "image/png": "[encoded data removed]",
            "text/plain": [
              "<PIL.Image.Image image mode=L size=326x326 at 0x7F2EE3EFAE10>"
            ]
          },
          "metadata": {
            "tags": []
          }
        },
        {
          "output_type": "stream",
          "text": [
            "図A-22　cross の 10回収縮　４近傍処理\n"
          ],
          "name": "stdout"
        },
        {
          "output_type": "display_data",
          "data": {
            "image/png": "[encoded data removed]",
            "text/plain": [
              "<PIL.Image.Image image mode=L size=326x326 at 0x7F2EE3EFAE10>"
            ]
          },
          "metadata": {
            "tags": []
          }
        },
        {
          "output_type": "stream",
          "text": [
            "図A-23　45度回転画像 の 10回収縮　４近傍処理\n"
          ],
          "name": "stdout"
        }
      ]
    },
    {
      "cell_type": "markdown",
      "metadata": {
        "id": "4yUWd3Y2JD6r",
        "colab_type": "text"
      },
      "source": [
        "### 25回収縮"
      ]
    },
    {
      "cell_type": "code",
      "metadata": {
        "id": "PD2IFDSyI4Dh",
        "colab_type": "code",
        "outputId": "08d45238-1633-40fe-80e6-5a7806ffdd30",
        "colab": {
          "base_uri": "https://localhost:8080/",
          "height": 703
        }
      },
      "source": [
        "itt = 25 #@param {type:\"slider\", min:1, max:30, step:1}\n",
        "neiborhood4 = np.array([[0, 1, 0],[1, 1, 1],[0, 1, 0]],np.uint8)\n",
        "erosion4 = cv2.dilate(bw0,neiborhood4,iterations = itt)\n",
        "erosion4r45 = cv2.dilate(bw45,neiborhood4,iterations = itt)\n",
        "cv2_imshow(250*(erosion4/255))\n",
        "print(\"図A-24　cross の {}回収縮　４近傍処理\".format(itt))\n",
        "cv2_imshow(250*(erosion4r45/255))\n",
        "print(\"図A-25　45度回転画像 の {}回収縮　４近傍処理\".format(itt))"
      ],
      "execution_count": 15,
      "outputs": [
        {
          "output_type": "display_data",
          "data": {
            "image/png": "[encoded data removed]",
            "text/plain": [
              "<PIL.Image.Image image mode=L size=326x326 at 0x7F2EE3EFAF28>"
            ]
          },
          "metadata": {
            "tags": []
          }
        },
        {
          "output_type": "stream",
          "text": [
            "図A-24　cross の 25回収縮　４近傍処理\n"
          ],
          "name": "stdout"
        },
        {
          "output_type": "display_data",
          "data": {
            "image/png": "[encoded data removed]",
            "text/plain": [
              "<PIL.Image.Image image mode=L size=326x326 at 0x7F2EE3EFAF28>"
            ]
          },
          "metadata": {
            "tags": []
          }
        },
        {
          "output_type": "stream",
          "text": [
            "図A-25　45度回転画像 の 25回収縮　４近傍処理\n"
          ],
          "name": "stdout"
        }
      ]
    },
    {
      "cell_type": "code",
      "metadata": {
        "id": "k4jD4LZzJZlL",
        "colab_type": "code",
        "outputId": "c874bff8-64e0-4b81-ce94-7e862a8f73d9",
        "colab": {
          "base_uri": "https://localhost:8080/",
          "height": 334
        }
      },
      "source": [
        "def stepupdilate4(bw,bw45):\n",
        "    plt.figure(figsize=(10, 4), dpi=100)\n",
        "    neiborhood4 = np.array([[0, 1, 0],[1, 1, 1],[0, 1, 0]],np.uint8)\n",
        "    plt.subplot(2,6,1)\n",
        "    plt.imshow(bw)\n",
        "    plt.title(\"Origin\")\n",
        "    plt.axis('off')\n",
        "    for i in range(1, 6):\n",
        "        erosion4 = cv2.dilate(bw,neiborhood4,iterations = i*5 )\n",
        "        plt.subplot(2, 6, i+1)\n",
        "        plt.title(str(5*i))\n",
        "        plt.imshow(erosion4)\n",
        "        plt.axis('off')\n",
        "        erosion4r45 = cv2.dilate(bw45,neiborhood4,iterations = i*5)\n",
        "        plt.subplot(2, 6, 6+i+1)\n",
        "        plt.title(str(5*i))\n",
        "        plt.imshow(erosion4r45)\n",
        "        plt.axis('off')\n",
        "\n",
        "stepupdilate4(bw0,bw45)"
      ],
      "execution_count": 16,
      "outputs": [
        {
          "output_type": "display_data",
          "data": {
            "image/png": "[encoded data removed]",
            "text/plain": [
              "<Figure size 1000x400 with 11 Axes>"
            ]
          },
          "metadata": {
            "tags": [],
            "needs_background": "light"
          }
        }
      ]
    },
    {
      "cell_type": "markdown",
      "metadata": {
        "id": "uaNh24MhdF-y",
        "colab_type": "text"
      },
      "source": [
        "　　　　　　　　　　　　　図A-26　収縮回数を段階的に増やしていった場合の結果観察（４近傍収縮 )"
      ]
    },
    {
      "cell_type": "markdown",
      "metadata": {
        "id": "Kpr_XR5WgFSj",
        "colab_type": "text"
      },
      "source": [
        "# 実験３　　膨張収縮によるノイズ除去\n",
        "\n",
        "<font color=red>膨張回数と収縮回数を変えるとどうなるか試しましょう。\n",
        "\n",
        "一番うまくノイズが消える組み合わせを報告してください。</font>\n",
        "\n",
        "## 実験３－１　膨張後収縮 \n",
        "### ８近傍処理"
      ]
    },
    {
      "cell_type": "code",
      "metadata": {
        "id": "VCiDp3-fgZth",
        "colab_type": "code",
        "colab": {
          "base_uri": "https://localhost:8080/",
          "height": 1000
        },
        "outputId": "4058d176-3494-49ff-ece3-8b902e4bc64c"
      },
      "source": [
        "膨張回数 = 1 #@param {type:\"slider\", min:1, max:10, step:1}\n",
        "収縮回数 = 1 #@param {type:\"slider\", min:1, max:10, step:1}\n",
        "\n",
        "cv2_imshow(250*(nbw/255))\n",
        "print(\"　　　　　図A-27　ノイズ除去前画像\")\n",
        "dilation8 = cv2.erode(nbw,neiborhood8,iterations = 膨張回数 )\n",
        "cv2_imshow(250*(dilation8/255))\n",
        "print(\"　　　　　図A-28　{}回膨張後（８近傍処理）\".format(膨張回数))\n",
        "erode8 = cv2.dilate(dilation8,neiborhood8,iterations = 収縮回数 )\n",
        "cv2_imshow(250*(erode8/255))\n",
        "print(\"　　　　　図A-29　{}回収縮後（８近傍処理）\".format(収縮回数))"
      ],
      "execution_count": 17,
      "outputs": [
        {
          "output_type": "display_data",
          "data": {
            "image/png": "[encoded data removed]",
            "text/plain": [
              "<PIL.Image.Image image mode=L size=326x326 at 0x7F2EE3D670B8>"
            ]
          },
          "metadata": {
            "tags": []
          }
        },
        {
          "output_type": "stream",
          "text": [
            "　　　　　図A-27　ノイズ除去前画像\n"
          ],
          "name": "stdout"
        },
        {
          "output_type": "display_data",
          "data": {
            "image/png": "[encoded data removed]",
            "text/plain": [
              "<PIL.Image.Image image mode=L size=326x326 at 0x7F2EE3D67668>"
            ]
          },
          "metadata": {
            "tags": []
          }
        },
        {
          "output_type": "stream",
          "text": [
            "　　　　　図A-28　1回膨張後（８近傍処理）\n"
          ],
          "name": "stdout"
        },
        {
          "output_type": "display_data",
          "data": {
            "image/png": "[encoded data removed]",
            "text/plain": [
              "<PIL.Image.Image image mode=L size=326x326 at 0x7F2EE3D67668>"
            ]
          },
          "metadata": {
            "tags": []
          }
        },
        {
          "output_type": "stream",
          "text": [
            "　　　　　図A-29　1回収縮後（８近傍処理）\n"
          ],
          "name": "stdout"
        }
      ]
    },
    {
      "cell_type": "markdown",
      "metadata": {
        "id": "nVdaG2m4jes6",
        "colab_type": "text"
      },
      "source": [
        "### ４近傍処理\n"
      ]
    },
    {
      "cell_type": "code",
      "metadata": {
        "id": "mzzS5meAjn9w",
        "colab_type": "code",
        "colab": {
          "base_uri": "https://localhost:8080/",
          "height": 703
        },
        "outputId": "fd436576-200b-4410-cac1-390efb43e06d"
      },
      "source": [
        "膨張回数 = 1 #@param {type:\"slider\", min:1, max:10, step:1}\n",
        "収縮回数 = 1 #@param {type:\"slider\", min:1, max:10, step:1}\n",
        "\n",
        "dilation4 = cv2.erode(nbw,neiborhood4,iterations = 膨張回数 )\n",
        "cv2_imshow(250*(dilation4/255))\n",
        "print(\"　　　　　図A-30　{}回膨張後（４近傍処理）\".format(膨張回数))\n",
        "erode4 = cv2.dilate(dilation4,neiborhood8,iterations = 収縮回数 )\n",
        "cv2_imshow(250*(erode4/255))\n",
        "print(\"　　　　　図A-31　{}回収縮後（４近傍処理）\".format(収縮回数))"
      ],
      "execution_count": 18,
      "outputs": [
        {
          "output_type": "display_data",
          "data": {
            "image/png": "[encoded data removed]",
            "text/plain": [
              "<PIL.Image.Image image mode=L size=326x326 at 0x7F2EE3F86668>"
            ]
          },
          "metadata": {
            "tags": []
          }
        },
        {
          "output_type": "stream",
          "text": [
            "　　　　　図A-30　1回膨張後（４近傍処理）\n"
          ],
          "name": "stdout"
        },
        {
          "output_type": "display_data",
          "data": {
            "image/png": "[encoded data removed]",
            "text/plain": [
              "<PIL.Image.Image image mode=L size=326x326 at 0x7F2EE3F86518>"
            ]
          },
          "metadata": {
            "tags": []
          }
        },
        {
          "output_type": "stream",
          "text": [
            "　　　　　図A-31　1回収縮後（４近傍処理）\n"
          ],
          "name": "stdout"
        }
      ]
    },
    {
      "cell_type": "markdown",
      "metadata": {
        "id": "yAui7F5yklSL",
        "colab_type": "text"
      },
      "source": [
        "## 実験３－２　収縮後膨張 \n",
        "### ８近傍処理\n"
      ]
    },
    {
      "cell_type": "code",
      "metadata": {
        "id": "3_PrWwFrk9mL",
        "colab_type": "code",
        "colab": {
          "base_uri": "https://localhost:8080/",
          "height": 703
        },
        "outputId": "fe3e3b60-6eb7-452c-d2cb-9e44057bf266"
      },
      "source": [
        "収縮回数 = 1 #@param {type:\"slider\", min:1, max:10, step:1}\n",
        "膨張回数 = 1 #@param {type:\"slider\", min:1, max:10, step:1}\n",
        "\n",
        "erode8 = cv2.dilate(nbw,neiborhood8,iterations = 収縮回数 )\n",
        "cv2_imshow(250*(erode8/255))\n",
        "print(\"　　　　　図A-32　{}回収縮後（８近傍処理）\".format(収縮回数))\n",
        "dilation8 = cv2.erode(erode8,neiborhood8,iterations = 膨張回数 )\n",
        "cv2_imshow(250*(dilation8/255))\n",
        "print(\"　　　　　図A-33　{}回膨張後（８近傍処理）\".format(膨張回数))"
      ],
      "execution_count": 19,
      "outputs": [
        {
          "output_type": "display_data",
          "data": {
            "image/png": "[encoded data removed]",
            "text/plain": [
              "<PIL.Image.Image image mode=L size=326x326 at 0x7F2EE3F86588>"
            ]
          },
          "metadata": {
            "tags": []
          }
        },
        {
          "output_type": "stream",
          "text": [
            "　　　　　図A-32　1回収縮後（８近傍処理）\n"
          ],
          "name": "stdout"
        },
        {
          "output_type": "display_data",
          "data": {
            "image/png": "[encoded data removed]",
            "text/plain": [
              "<PIL.Image.Image image mode=L size=326x326 at 0x7F2EE3F86588>"
            ]
          },
          "metadata": {
            "tags": []
          }
        },
        {
          "output_type": "stream",
          "text": [
            "　　　　　図A-33　1回膨張後（８近傍処理）\n"
          ],
          "name": "stdout"
        }
      ]
    },
    {
      "cell_type": "markdown",
      "metadata": {
        "id": "b1gxUCccmYot",
        "colab_type": "text"
      },
      "source": [
        "### ４近傍処理\n"
      ]
    },
    {
      "cell_type": "code",
      "metadata": {
        "id": "DvRC7f6zmdof",
        "colab_type": "code",
        "colab": {
          "base_uri": "https://localhost:8080/",
          "height": 703
        },
        "outputId": "fa35307d-7f05-4378-bea4-75f264cf5bac"
      },
      "source": [
        "収縮回数 = 1 #@param {type:\"slider\", min:1, max:10, step:1}\n",
        "膨張回数 = 1 #@param {type:\"slider\", min:1, max:10, step:1}\n",
        "\n",
        "erode4 = cv2.dilate(nbw,neiborhood4,iterations = 収縮回数 )\n",
        "cv2_imshow(250*(erode4/255))\n",
        "print(\"　　　　　図A-34　{}回収縮後（４近傍処理）\".format(収縮回数))\n",
        "dilation4 = cv2.erode(erode4,neiborhood8,iterations = 膨張回数 )\n",
        "cv2_imshow(250*(dilation4/255))\n",
        "print(\"　　　　　図A-35　{}回膨張後（４近傍処理）\".format(膨張回数))"
      ],
      "execution_count": 20,
      "outputs": [
        {
          "output_type": "display_data",
          "data": {
            "image/png": "[encoded data removed]",
            "text/plain": [
              "<PIL.Image.Image image mode=L size=326x326 at 0x7F2EE3F86898>"
            ]
          },
          "metadata": {
            "tags": []
          }
        },
        {
          "output_type": "stream",
          "text": [
            "　　　　　図A-34　1回収縮後（４近傍処理）\n"
          ],
          "name": "stdout"
        },
        {
          "output_type": "display_data",
          "data": {
            "image/png": "[encoded data removed]",
            "text/plain": [
              "<PIL.Image.Image image mode=L size=326x326 at 0x7F2EE3F866D8>"
            ]
          },
          "metadata": {
            "tags": []
          }
        },
        {
          "output_type": "stream",
          "text": [
            "　　　　　図A-35　1回膨張後（４近傍処理）\n"
          ],
          "name": "stdout"
        }
      ]
    },
    {
      "cell_type": "markdown",
      "metadata": {
        "id": "4uihWS4Bmw9R",
        "colab_type": "text"
      },
      "source": [
        "# <font color=red>**☆☆　ここまで　☆☆**</font>"
      ]
    },
    {
      "cell_type": "markdown",
      "metadata": {
        "id": "ltWDJmHDtiqp",
        "colab_type": "text"
      },
      "source": [
        "\n",
        "\n",
        "---\n",
        "\n",
        "\n",
        "\n",
        "---\n",
        "\n",
        "\n",
        "\n",
        "---\n",
        "\n",
        "\n",
        "\n",
        "# 参考\n",
        "\n",
        "以下は課題ではありませんが、考察の参考になると思いますので、実行してみてください。\n",
        "\n",
        "円ならどうなるか？"
      ]
    },
    {
      "cell_type": "code",
      "metadata": {
        "id": "Dw3hhO3goKsg",
        "colab_type": "code",
        "outputId": "da8acb20-6ff5-4108-fce4-031c583ef89c",
        "colab": {
          "base_uri": "https://localhost:8080/",
          "height": 290
        }
      },
      "source": [
        "url = \"https://user-images.githubusercontent.com/5820803/81076832-1cecd100-8f27-11ea-9743-cf76aefbd9b2.png\" # circle\n",
        "img_path, header = urllib.request.urlretrieve(url)\n",
        "imgC = cv2.imread(img_path,1) #  画像の読み込み\n",
        "gryC =  cv2.imread(img_path,0)\n",
        "cv2_imshow(imgC)\n",
        "print(\"図参-1　ある円の画像\")\n",
        "histC = cv2.calcHist([gryC],[0],None,[256],[0,256])\n",
        "# plt.hist(gryC.ravel(),256,[0,256]); plt.show()\n",
        "# print(\"図参-2　上の画像のヒストグラム\")\n",
        "# ２階調化\n",
        "retC, bwC = cv2.threshold(gryC,0,255,cv2.THRESH_BINARY+cv2.THRESH_OTSU)\n",
        "# cv2_imshow(bwC)\n",
        "# print(\"図参-3　円の画像を判別分析法によるしきい値 {} で２階調化した画像\".format(retC))"
      ],
      "execution_count": 21,
      "outputs": [
        {
          "output_type": "display_data",
          "data": {
            "image/png": "[encoded data removed]",
            "text/plain": [
              "<PIL.Image.Image image mode=RGB size=256x256 at 0x7F2EE3E132E8>"
            ]
          },
          "metadata": {
            "tags": []
          }
        },
        {
          "output_type": "stream",
          "text": [
            "図参-1　ある円の画像\n"
          ],
          "name": "stdout"
        }
      ]
    },
    {
      "cell_type": "code",
      "metadata": {
        "id": "-q7nc71_o2X7",
        "colab_type": "code",
        "outputId": "ee47d644-d73b-42d3-bc0e-6439332f8b74",
        "colab": {
          "base_uri": "https://localhost:8080/",
          "height": 170
        }
      },
      "source": [
        "plt.figure(figsize=(10, 4), dpi=100)\n",
        "neiborhood8 = np.ones((3,3),np.uint8)\n",
        "plt.subplot(1,6,1)\n",
        "plt.imshow(bwC)\n",
        "plt.title(\"Origin\")\n",
        "plt.axis('off')\n",
        "for i in range(1, 6):\n",
        "    dilate8 = cv2.erode(bwC,neiborhood8,iterations = i*5 )\n",
        "    plt.subplot(1, 6, i+1)\n",
        "    plt.title(str(5*i))\n",
        "    plt.imshow(dilate8)\n",
        "    plt.axis('off')"
      ],
      "execution_count": 22,
      "outputs": [
        {
          "output_type": "display_data",
          "data": {
            "image/png": "[encoded data removed]",
            "text/plain": [
              "<Figure size 1000x400 with 6 Axes>"
            ]
          },
          "metadata": {
            "tags": [],
            "needs_background": "light"
          }
        }
      ]
    },
    {
      "cell_type": "markdown",
      "metadata": {
        "id": "LwTI31MuZDN3",
        "colab_type": "text"
      },
      "source": [
        "　　　　　　　　　　　　　図参-2　膨張回数を段階的に増やしていった場合の結果観察（８近傍膨張）"
      ]
    },
    {
      "cell_type": "code",
      "metadata": {
        "id": "H9Pa1Te9pL91",
        "colab_type": "code",
        "outputId": "576ab700-3fae-4b9e-d1ec-7481c149c342",
        "colab": {
          "base_uri": "https://localhost:8080/",
          "height": 170
        }
      },
      "source": [
        "plt.figure(figsize=(10, 4), dpi=100)\n",
        "neiborhood4 = np.array([[0, 1, 0],[1, 1, 1],[0, 1, 0]],np.uint8)\n",
        "plt.subplot(1,6,1)\n",
        "plt.imshow(bwC)\n",
        "plt.title(\"Origin\")\n",
        "plt.axis('off')\n",
        "for i in range(1, 6):\n",
        "    dilate4 = cv2.erode(bwC,neiborhood4,iterations = i*5 )\n",
        "    plt.subplot(1, 6, i+1)\n",
        "    plt.title(str(5*i))\n",
        "    plt.imshow(dilate4)\n",
        "    plt.axis('off')"
      ],
      "execution_count": 23,
      "outputs": [
        {
          "output_type": "display_data",
          "data": {
            "image/png": "[encoded data removed]",
            "text/plain": [
              "<Figure size 1000x400 with 6 Axes>"
            ]
          },
          "metadata": {
            "tags": [],
            "needs_background": "light"
          }
        }
      ]
    },
    {
      "cell_type": "markdown",
      "metadata": {
        "id": "YH6rWS86ZwNO",
        "colab_type": "text"
      },
      "source": [
        "　　　　　　　　　　　　　図参-3　膨張回数を段階的に増やしていった場合の結果観察（４近傍膨張）"
      ]
    },
    {
      "cell_type": "code",
      "metadata": {
        "id": "cFd5sY_ssjts",
        "colab_type": "code",
        "outputId": "28ec0bda-20e6-46ff-9133-570a7b535627",
        "colab": {
          "base_uri": "https://localhost:8080/",
          "height": 170
        }
      },
      "source": [
        "plt.figure(figsize=(10, 4), dpi=100)\n",
        "neiborhood8 = np.ones((3,3),np.uint8)\n",
        "plt.subplot(1,6,1)\n",
        "plt.imshow(bwC)\n",
        "plt.title(\"Origin\")\n",
        "plt.axis('off')\n",
        "for i in range(1, 6):\n",
        "    erosion8 = cv2.dilate(bwC,neiborhood8,iterations = i*5 )\n",
        "    plt.subplot(1, 6, i+1)\n",
        "    plt.title(str(5*i))\n",
        "    plt.imshow(erosion8)\n",
        "    plt.axis('off')"
      ],
      "execution_count": 24,
      "outputs": [
        {
          "output_type": "display_data",
          "data": {
            "image/png": "[encoded data removed]",
            "text/plain": [
              "<Figure size 1000x400 with 6 Axes>"
            ]
          },
          "metadata": {
            "tags": [],
            "needs_background": "light"
          }
        }
      ]
    },
    {
      "cell_type": "markdown",
      "metadata": {
        "id": "JOnJ3r3hanpS",
        "colab_type": "text"
      },
      "source": [
        "　　　　　　　　　　　　　図参-4　収縮回数を段階的に増やしていった場合の結果観察（８近傍収縮）"
      ]
    },
    {
      "cell_type": "code",
      "metadata": {
        "id": "94IvFp6as24c",
        "colab_type": "code",
        "outputId": "33143c30-c184-4a6c-a285-39d93109a7ad",
        "colab": {
          "base_uri": "https://localhost:8080/",
          "height": 170
        }
      },
      "source": [
        "plt.figure(figsize=(10, 4), dpi=100)\n",
        "neiborhood4 = np.array([[0, 1, 0],[1, 1, 1],[0, 1, 0]],np.uint8)\n",
        "plt.subplot(1,6,1)\n",
        "plt.imshow(bwC)\n",
        "plt.title(\"Origin\")\n",
        "plt.axis('off')\n",
        "for i in range(1, 6):\n",
        "    erosion4 = cv2.dilate(bwC,neiborhood4,iterations = i*5 )\n",
        "    plt.subplot(1, 6, i+1)\n",
        "    plt.title(str(5*i))\n",
        "    plt.imshow(erosion4)\n",
        "    plt.axis('off')"
      ],
      "execution_count": 25,
      "outputs": [
        {
          "output_type": "display_data",
          "data": {
            "image/png": "[encoded data removed]",
            "text/plain": [
              "<Figure size 1000x400 with 6 Axes>"
            ]
          },
          "metadata": {
            "tags": [],
            "needs_background": "light"
          }
        }
      ]
    },
    {
      "cell_type": "markdown",
      "metadata": {
        "id": "45eRVvx3a4D_",
        "colab_type": "text"
      },
      "source": [
        "　　　　　　　　　　　　　図参-5　収縮回数を段階的に増やしていった場合の結果観察（４近傍収縮）"
      ]
    }
  ]
}