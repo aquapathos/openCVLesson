{
  "nbformat": 4,
  "nbformat_minor": 0,
  "metadata": {
    "colab": {
      "name": "星空画像の２階調化.ipynb",
      "provenance": [],
      "toc_visible": true,
      "include_colab_link": true
    },
    "kernelspec": {
      "name": "python3",
      "display_name": "Python 3"
    }
  },
  "cells": [
    {
      "cell_type": "markdown",
      "metadata": {
        "id": "view-in-github",
        "colab_type": "text"
      },
      "source": [
        "<a href=\"https://colab.research.google.com/github/aquapathos/openCVLesson/blob/master/IP/%E6%98%9F%E7%A9%BA%E7%94%BB%E5%83%8F%E3%81%AE%EF%BC%92%E9%9A%8E%E8%AA%BF%E5%8C%96.ipynb\" target=\"_parent\"><img src=\"https://colab.research.google.com/assets/colab-badge.svg\" alt=\"Open In Colab\"/></a>"
      ]
    },
    {
      "cell_type": "markdown",
      "metadata": {
        "id": "U4rpDSRSrE-8"
      },
      "source": [
        "# 判別分析法と移動平均法\n",
        "\n",
        "　星空の画像を２階調化して星だけを白く浮かび上がらせたい。\n",
        " \n",
        "　しきい値を自動決定する判別分析法（大津の方法）と近傍の明るさに応じてしきい値を画素ごとに設定する移動平均法を適用します。実験を通じて２つの方法を実践的に理解してもらうのが狙いです。\n",
        " \n",
        " ---\n",
        " # 準備 処理対象画像の読み込みとヒストグラムの確認"
      ]
    },
    {
      "cell_type": "code",
      "metadata": {
        "id": "y8PjxTe8NILr"
      },
      "source": [
        "import urllib.request\n",
        "import cv2\n",
        "from google.colab.patches import cv2_imshow\n",
        "from matplotlib import pyplot as plt\n",
        "from matplotlib import pylab\n",
        "from google.colab import widgets\n",
        "import warnings\n",
        "import matplotlib\n",
        "warnings.filterwarnings('ignore', category=matplotlib.MatplotlibDeprecationWarning)\n",
        "\n",
        "WIDTH=400\n",
        "\n",
        "url = \"https://user-images.githubusercontent.com/5820803/111906119-62a87e80-8a92-11eb-8550-c704aff0cf26.png\" # 画像URL\n",
        "img_path, header = urllib.request.urlretrieve(url)\n",
        "img = cv2.imread(img_path,0) #  画像の読み込み\n",
        "width = WIDTH\n",
        "height = img.shape[0]*WIDTH//img.shape[1]\n",
        "img = cv2.resize(img,(width,height))\n",
        "cv2_imshow(img) #\n",
        "print(\"図2-１　処理対象画像\")\n",
        "cv2.imwrite(\"入力画像.png\",img)\n",
        "  \n",
        "hist = cv2.calcHist([img],[0],None,[256],[0,256])\n",
        "plt.hist(img.ravel(),256,[0,256]); plt.show()\n",
        "print(\"図２-2　ヒストグラム\")"
      ],
      "execution_count": null,
      "outputs": []
    },
    {
      "cell_type": "markdown",
      "metadata": {
        "id": "6idD207VsQ4-"
      },
      "source": [
        "## 実験１しきい値の手設定による２階調化\n",
        "\n",
        "ヒストグラムを参照して、さまざまなしきい値を設定して２階調化を試みてみよ。\n",
        "\n",
        "## 課題　結果の例を３つ報告せよ。"
      ]
    },
    {
      "cell_type": "code",
      "metadata": {
        "id": "zUHR9R_3Qkrg"
      },
      "source": [
        "#@title Number fields\n",
        "しきい値１ = 24 #@param {type:\"slider\", min:0, max:255, step:1}\n",
        "しきい値２ = 74 #@param {type:\"slider\", min:0, max:255, step:1}\n",
        "しきい値３ = 144 #@param {type:\"slider\", min:0, max:255, step:1}\n",
        "ths=[しきい値１,しきい値2,しきい値3]\n",
        "  \n",
        "for i in range(3):\n",
        "    ret,bwimg = cv2.threshold(img,ths[i],255,cv2.THRESH_BINARY)\n",
        "    plt.imshow(bwimg,'gray', vmin = 0, vmax = 255) \n",
        "    plt.axis('off')\n",
        "    # plt.axes().set_aspect('equal')\n",
        "    plt.show()\n",
        "    print(\"          図2-{}     ２値化画像　　しきい値{}\\n\".format(i+3,ths[i]))"
      ],
      "execution_count": null,
      "outputs": []
    },
    {
      "cell_type": "markdown",
      "metadata": {
        "id": "yzjWElBRlUo4"
      },
      "source": [
        "# 実験２　判別分析法（大津の方法）\n",
        "\n",
        "　　判別分析法で２階調化のしきい値を決定した場合の結果はどうなるか試してみよう。\n",
        "  \n",
        " ## 課題　判別分析法の結果は星空の２階調化に向いているかどうか、向いていないとしたら、どうするとよいと思うか、考察せよ。\n",
        " \n",
        " 　　なお、下のプログラムでは、ret2 という変数の値が、判別分析法によって決定されたしきい値である。\n"
      ]
    },
    {
      "cell_type": "code",
      "metadata": {
        "id": "a8lA8aPsaKs_"
      },
      "source": [
        "ret2,otsu = cv2.threshold(img,0,255,cv2.THRESH_OTSU)\n",
        "plt.imshow(otsu,'gray', vmin = 0, vmax = 255) \n",
        "plt.axis('off')\n",
        "# plt.axes().set_aspect('equal')\n",
        "plt.show()\n",
        "print(\"          図2-6     判別分析法の結果　　しきい値{}\\n\".format(ret2))\n"
      ],
      "execution_count": null,
      "outputs": []
    },
    {
      "cell_type": "markdown",
      "metadata": {
        "id": "H0zCE7ZIl6eU"
      },
      "source": [
        "# 実験３　移動平均法\n",
        "\n",
        "- ksize 　近傍の範囲　　デフォルト　11\n",
        "- offset   オフセット値　デフォルト　-2\n",
        "\n",
        "　近傍の平均値よりオフセット値分低いレベルをしきい値とし、それより明るければ白、暗ければ黒とする。\n",
        "\n",
        "　文字などの場合は平均だと紙の白部分に少しでも暗い部分があると黒になってしまうので、平均より低い値をしきい値として白よりになるようにする。\n",
        "\n",
        "　星空の場合は逆で、背景の黒をしっかり出したいので、オフセットを負とするとよい。\n",
        "\n",
        "　平均の取り方としては単純平均と荷重平均があるが、ここでは**ガウシアン重みによる荷重平均**を用いた。\n",
        " \n",
        "---\n",
        "## 課題   オフセット値を変えてみて、結果の変化を調べ、もっとも星空っぽく見えると思う値に定めよ。\n",
        "\n",
        "　　いうまでもないが、オフセットの値と結果画像を報告せよ。他の課題も同様。"
      ]
    },
    {
      "cell_type": "code",
      "metadata": {
        "id": "3iCse1ficzzC"
      },
      "source": [
        "#@title Number fields\n",
        "offset = 0 #@param {type:\"slider\", min:-30, max:20, step:1}\n",
        "ksize = 11 #@param {type:\"slider\", min:3, max:20, step:2}\n",
        "th3 = cv2.adaptiveThreshold(img,255,cv2.ADAPTIVE_THRESH_GAUSSIAN_C,\\\n",
        "            cv2.THRESH_BINARY,ksize,offset)\n",
        "plt.imshow(th3,'gray', vmin = 0, vmax = 255) \n",
        "plt.axis('off')\n",
        "# plt.axes().set_aspect('equal')\n",
        "plt.show()\n",
        "\n",
        "print(\"          図2-7     移動平均法の結果　\")\n"
      ],
      "execution_count": null,
      "outputs": []
    },
    {
      "cell_type": "markdown",
      "metadata": {
        "id": "YWflEnCmmSUC"
      },
      "source": [
        "# 発展\n",
        "　　樹木の輪郭部分の隙間が白く残るのがきになるのでなんとかしたい。\n",
        "  \n",
        "  　以下のプログラムでは、\n",
        "   \n",
        " 1. まず画像をぼかし、これに対して判別分析法を適用して目安となるしきい値を決定。\n",
        " 2. 上で得たしきい値より暗いレベルで２階調化。夜空部分はほぼ白、樹木は黒となる。\n",
        " 3. 白領域に残った黒画素を除去するためにオープニング処理を施す。\n",
        " 4. 残った黒連結成分を膨張させ、マスク画像とする。\n",
        " 5. 移動平均法の結果画像とマスク画像をビット毎に論理積をとる。\n",
        " \n",
        " という手順で空の星だけを白く残そうとしている。\n"
      ]
    },
    {
      "cell_type": "code",
      "metadata": {
        "id": "jyrRF9fve_No"
      },
      "source": [
        "import numpy as np\n",
        "blur = cv2.GaussianBlur(img,(5,5),0) # 画像をわざとボケさせる\n",
        "kernel = np.ones((5,5),np.uint8)\n",
        "ret3,th4 = cv2.threshold(blur,0,255,cv2.THRESH_OTSU) # 判別分析法で２値化のしきい値を決める。\n",
        "ret,bwimg = cv2.threshold(img,ret3-30,255,cv2.THRESH_BINARY) # 上でえたしきい値より低いレベルで２値化\n",
        "opening = cv2.morphologyEx(bwimg, cv2.MORPH_OPEN, kernel) # 白領域内の黒ノイズを除去\n",
        "erosion = cv2.erode(opening,kernel,iterations = 5) # 黒領域を膨張させる（樹木の輪郭部分の隙間を埋めるため）\n",
        "plt.imshow(erosion,'gray', vmin = 0, vmax = 255) \n",
        "plt.axis('off')\n",
        "# plt.axes().set_aspect('equal')\n",
        "plt.show()\n",
        "print(\"          図2-8     マスク画像\\n\")\n"
      ],
      "execution_count": null,
      "outputs": []
    },
    {
      "cell_type": "markdown",
      "metadata": {
        "id": "JYzqqx4cxZRO"
      },
      "source": [
        "## 最終結果　マスク画像と移動平均法の結果のAND演算結果"
      ]
    },
    {
      "cell_type": "code",
      "metadata": {
        "id": "fHZAWbjpfyK0"
      },
      "source": [
        "plt.imshow(cv2.bitwise_and(th3,erosion),'gray', vmin = 0, vmax = 255) \n",
        "plt.axis('off')\n",
        "# plt.axes().set_aspect('equal')\n",
        "plt.show()\n",
        "print(\"          図2-9    星のみを白画素として抽出した画像\\n\")"
      ],
      "execution_count": null,
      "outputs": []
    },
    {
      "cell_type": "markdown",
      "metadata": {
        "id": "Rlt-egApzNN2"
      },
      "source": [
        "# 課題\n",
        "\n",
        "　上の結果から星の数を自動カウントする方法を考えなさいと言われ、  \n",
        " 　O君は、「白画素の数を数えればよい」と解答した。  \n",
        "　彼の考え方には問題がある。その理由と、どう答えるべきかを論ぜよ。\n",
        "\n"
      ]
    }
  ]
}