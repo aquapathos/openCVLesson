{
  "nbformat": 4,
  "nbformat_minor": 0,
  "metadata": {
    "colab": {
      "name": "アナログ画像とディジタル画像.ipynb",
      "provenance": [],
      "collapsed_sections": [],
      "include_colab_link": true
    },
    "kernelspec": {
      "name": "python3",
      "display_name": "Python 3"
    }
  },
  "cells": [
    {
      "cell_type": "markdown",
      "metadata": {
        "id": "view-in-github",
        "colab_type": "text"
      },
      "source": [
        "<a href=\"https://colab.research.google.com/github/aquapathos/openCVLesson/blob/master/IP/%E3%82%A2%E3%83%8A%E3%83%AD%E3%82%B0%E7%94%BB%E5%83%8F%E3%81%A8%E3%83%87%E3%82%A3%E3%82%B8%E3%82%BF%E3%83%AB%E7%94%BB%E5%83%8F.ipynb\" target=\"_parent\"><img src=\"https://colab.research.google.com/assets/colab-badge.svg\" alt=\"Open In Colab\"/></a>"
      ]
    },
    {
      "cell_type": "markdown",
      "metadata": {
        "id": "rpEM-o2rEU9o",
        "colab_type": "text"
      },
      "source": [
        "# **画像情報処理 第3回**\n",
        "# **【演習】　アナログ画像とディジタル画像**\n",
        "\n",
        "## はじめに\n",
        "\n",
        "<img src=\"https://upload.wikimedia.org/wikipedia/commons/thumb/e/ee/Mandel_zoom_01_head_and_shoulder.jpg/1920px-Mandel_zoom_01_head_and_shoulder.jpg\" width=450>  \n",
        "　\n",
        "画像のディジタル化、で学んだように、ディジタル画像は、アナログ画像上に一定間隔で取った標本点の明るさや色の情報を数値化したデータの集まりです。  \n",
        "　どれくらいの間隔でサンプルを取るのか（標本間隔）、１つのデータを何ビットで表すか（量子化レベル数）は、目的と人の視覚の分解能、色分解能に対して必要十分かどうかで決められています。  \n",
        "　いわゆる解像度は、単位長さあたりの標本数と言い換えることができます。最近のデバイスでは、普通の鑑賞条件下では、画素一つ一つが識別できない程度に解像度が高く設定されていますが、普通以上に拡大すれば、画素１つ１つが見えてきます。画素の境界が目立たないよう、補間処理が施されることも多いですが、この講義の後半で出てくる平滑化（ぼかし）と同じなので、鮮明な画像とはなりません。  \n",
        "　一方アナログ画像には画素という概念はありませんので、そもそも解像度という概念自体ありませんが、デジタルの解像度でたとえるなら、位置も時刻も連続無限の解像度を持ちます。  \n",
        "　また、ディジタル画像のデータは、有限のビット数で表されるので、色や明るさのレベルも階段状、離散的です。アナログのレベルは連続的です。\n",
        "<hr>\n",
        "\n",
        "　今回の実験は、ディジタル画像とアナログ画像を同じ倍率で拡大してその結果を比較する実験です。\n",
        "\n",
        "\n",
        "　もちろん、パソコンで表示している時点で、そのデータはディジタルです。パソコン上で、純粋なアナログ画像を実験に使ったり表示したりすることはできませんので、計算式で定義されるフラクタル図形を仮想的にアナログ画像と見立てて比較実験を行います。  \n",
        "\n",
        "　計算式上での拡大縮小は画面の解像度とは無関係ですので、ちょうどアナログ画像をレンズで拡大した場合と同様の結果を得ることができます。これは、アウトラインフォントや図形のベクタ表現の原理です。  \n",
        "　なお、今回の実験では標本化のみを議論の対象としています。（考察で、結果の違いが量子化に依るものかのように書く人がいますが、それは的外れです）\n",
        "\n"
      ]
    },
    {
      "cell_type": "markdown",
      "metadata": {
        "id": "z9e8IXiEXUJw",
        "colab_type": "text"
      },
      "source": [
        "### 【目的】\n",
        "\n",
        " [マンデルブロ集合](https://ja.wikipedia.org/wiki/%E3%83%9E%E3%83%B3%E3%83%87%E3%83%AB%E3%83%96%E3%83%AD%E9%9B%86%E5%90%88)の画像を対象とし、ディジタル拡大とアナログ拡大の結果の違いから、ディジタル画像の実体とその性質を理解する。\n",
        "\n",
        "###【課題】\n",
        " 以下のプログラムを使って、同じ画像に対するアナログ（とみたてた）拡大とデジタル拡大を行い、その違いを調べ、両者の性質について考察し、レポートにまとめてください。\n",
        "\n",
        "　（注意）レポートを提出する前に、共通教材の「レポートについての注意事項」に目を通してください。画像処理のレポートで画像が示されていないレポートは不可です。逆に、画像だけを貼って説明や考察のないレポートも不可です。\n",
        "\n",
        "### 【実験手順】\n",
        "\n",
        "この下のセル～<font color='orange'>**【基本手順ここまで】**</font>までが、１６倍のアナログ拡大と同じく１６倍のディジタル拡大をそれぞれ実行して結果を表示する手順となります。\n",
        "\n",
        "#### （１）プログラムの使い方の理解\n",
        ">【第１ステップここまで】のところまで、説明を読みながら、順に実行してプログラムの使い方を理解してください。各セルの左の　▶　マークをクリックするか、セル内で Shift+Enter を押すと、そのセルのプログラムを実行できます。（「プログラムの使い方の理解」はレポートに書く必要ありません。念のため）\n",
        "\n",
        "#### （２）実験\n",
        "#### 最低限必要な実験\n",
        "> - マンデルブローの画像上の特徴的な場所を１か所選び、アナログとディジタルとの１６倍拡大を比較する。\n",
        "\n",
        "この実験は最低限実験し、結果の報告と考察を述べてください。比較ですから、当然同じ個所を拡大してください。\n",
        "\n",
        "追加実験\n",
        "> - 拡大する個所を変えての実験  \n",
        "> - 拡大率を変えての実験  \n",
        "> - フラクタル図形の特徴を活かした実験（※）\n",
        "\n",
        "（※）フラクタル図形は、自己相似図形ともいい、拡大すると、もとの画像と同じ図形が現れ、さらに拡大するとまた現れる、という性質を持っています。\n",
        "\n",
        "おまけの実験\n",
        "> - プログラムの高速化\n",
        "> - もっと芸術的なカラーリングルール\n",
        "\n",
        "アナログとディジタルの本題と関係ありませんが、本課題を終えたうえで、余裕があればチャレンジして下さい。いいプログラムができたらアピールしてください。来年の演習で採用させていただきます。\n",
        "\n"
      ]
    },
    {
      "cell_type": "markdown",
      "metadata": {
        "id": "8wCIgLcsYXc9",
        "colab_type": "text"
      },
      "source": [
        "## マンデルブロー集合の描画関数プログラムの大域パラメータ設定\n",
        "\n",
        "　基本的にさわる必要はありません。興味がある人は、課題用のデータを取り終わってから、値を変更していろいろ実験してみてください。\n",
        "（今回の実験に合わせてあるので不具合がでるかもしれません）\n"
      ]
    },
    {
      "cell_type": "code",
      "metadata": {
        "id": "2IHy5qe2lfN_",
        "colab_type": "code",
        "colab": {}
      },
      "source": [
        "import numpy as np\n",
        "import matplotlib.pyplot as plt\n",
        "import cv2\n",
        "\n",
        "# 学籍番号 = \"00S0000\"  #@param {type:\"string\"}\n",
        "#@markdown ### 描画パラメータ\n",
        "figsize = (5,5) #@param {type:\"raw\"}\n",
        "dpi =  100#@param {type:\"integer\"}\n",
        "WINSIZE = 320 #@param {type:\"integer\"}\n",
        "#@markdown ### マンデルブロー計算パラメータ\n",
        "#@markdown ##### 発散判定距離\n",
        "HMAX = 10 #@param {type:\"integer\"}\n",
        "#@markdown ##### 繰り返し上限\n",
        "MAXITR = 256 #@param {type:\"integer\"}\n",
        "#@markdown ##### 色数\n",
        "COLORBASE = 32 #@param {type:\"integer\"}\n",
        "# 初期設定\n",
        "#@markdown ##### 倍率\n",
        "MULT = 16 #@param {type:\"slider\", min:1, max:32, step:1}\n",
        "#@markdown ##### 初期位置\n",
        "X0 = -2.2 #@param {type:\"number\"}\n",
        "Y0 = -1.4 #@param {type:\"number\"}\n",
        "#@markdown ##### 定義域のサイズ\n",
        "DSIZE = 2.8 #@param {type:\"number\"}\n",
        "# 定義域サイズを大きくすると見た目は小さくなる\n",
        "X1,Y1 = X0+DSIZE,Y0+DSIZE\n",
        "MULT = int(MULT)"
      ],
      "execution_count": 0,
      "outputs": []
    },
    {
      "cell_type": "markdown",
      "metadata": {
        "id": "vVPeJ3tvaEwr",
        "colab_type": "text"
      },
      "source": [
        "## マンデルブロー集合の描画関数を定義\n",
        "\n",
        "### マンデルブロー集合の画像を得る\n",
        "> **drawMandel**(**center**,**mul**,**idname**,**colorsystem**)\n",
        "\n",
        ">> **center** 中心座標  (160,160) という形式  \n",
        ">> **mul** 拡大率  \n",
        ">> **idname** ファイル名につける識別子  \n",
        ">> **colorsystem** 色のつけかた.\"A\",\"B\",\"C\"のいずれか\n",
        "\n",
        ">> 戻り値：　画像  \n",
        "\n",
        "表示される画像（目盛りやグリッド線除く）が保存されます。\n",
        "\n",
        "\n",
        "> **digitalResize**(**center**,**mul**,**idname**,**colorsystem**)\n",
        "\n",
        ">> **center** 中心座標  (160,160) という形式  \n",
        ">> **mul** 拡大率  \n",
        ">> **idname** ファイル名につける識別子  \n",
        ">> **colorsystem** 色のつけかた.\"A\",\"B\",\"C\"のいずれか\n",
        "\n",
        ">> 戻り値：　拡大前画像、拡大画像 \n",
        "\n",
        "中央部分を mul で指定する拡大率でウィンドウサイズ一杯に拡大し、表示部分の拡大前と拡大後の画像を保存します。\n",
        "\n",
        "保存される画像には、目盛りやグリッド線は含まれません。\n"
      ]
    },
    {
      "cell_type": "code",
      "metadata": {
        "id": "0_nEk3Vso-jR",
        "colab_type": "code",
        "colab": {}
      },
      "source": [
        "# マンデルブロー集合の描画\n",
        "def drawMandel(center=(WINSIZE/2,WINSIZE/2),mul=1.0,idname=\"000\",colorsystem =\"A\"):\n",
        "    global WINSIZE,figsize,dpi # この行はメモ\n",
        "    img = drawMandel0(center=center,mul = mul,idname=idname,colorsystem =colorsystem)\n",
        "    W,HW = WINSIZE,WINSIZE//2\n",
        "    fig = plt.figure(figsize=figsize,dpi=dpi)\n",
        "    # グリッドを表示する。\n",
        "    ax = fig.add_subplot(111)\n",
        "    ax.imshow(img[:,:,::-1])\n",
        "    ax.grid(which='both')\n",
        "    cx,cy = center\n",
        "    plt.xticks(np.arange(0, W, 40), np.arange(HW-HW//mul, HW+HW//mul, 40//mul)+int(cx-HW))\n",
        "    plt.yticks(np.arange(0, W, 40), np.arange(HW-HW//mul, HW+HW//mul, 40//mul)+int(cy-HW)) \n",
        "    plt.grid(True)\n",
        "    # 画像の保存\n",
        "    savename = \"A_{}_{}-{}_s{}.png\".format(idname,cx,cy,mul)\n",
        "    cv2.imwrite(savename,img)\n",
        "    return img\n",
        "\n",
        "def drawMandel0(center=(WINSIZE/2,WINSIZE/2),mul=1.0,idname=\"000\",colorsystem =\"A\"):\n",
        "    global X0,X1,Y0,Y1,WINSIZE,MAXITR,MAX,figsize,dpi # この行はメモ\n",
        "    CX = (X1+X0)/2\n",
        "    CY = (Y1+Y0)/2\n",
        "    W = WINSIZE\n",
        "    cx,cy = center\n",
        "    width = (X1-X0)/mul\n",
        "    height = (Y1-Y0)/mul\n",
        "\n",
        "    x0 = (cx-W/2)*mul* width/(W-1) + (CX - width/2)\n",
        "    x1 = (cx-W/2)*mul* width/(W-1) + (CX + width/2)\n",
        "    y0 = (cy-W/2)*mul* height/(W-1) + (CY - height/2)\n",
        "    y1 = (cy-W/2)*mul* height/(W-1) + (CY + height/2)\n",
        "\n",
        "    img = np.zeros((W, W, 3), np.uint8)\n",
        "    for i in range(W):\n",
        "        re = x0 + (x1 - x0)/(W-1) * i \n",
        "        for j in range(W):\n",
        "            im = y0 + (y1 - y0)/(W-1) * j\n",
        "\n",
        "            x = 0.0\n",
        "            y = 0.0\n",
        "            for n in range(MAXITR):\n",
        "                if x**2 + y*2 < HMAX:\n",
        "                  x, y = x**2 - y**2 + re, 2*x*y + im\n",
        "                else:\n",
        "                  break\n",
        "            if colorsystem == \"B\":\n",
        "              r,g,b = number2ColorB(n, base=COLORBASE)\n",
        "            elif colorsystem == \"C\":\n",
        "              r,g,b = number2ColorC(n, base=COLORBASE) \n",
        "            else:\n",
        "              r,g,b = number2ColorA(n)           \n",
        "            img[j,i]=[b,g,r]\n",
        "    return img\n",
        "\n",
        "# デジタル拡大　中心部をウィンドウいっぱいに拡大\n",
        "def digitalResize(center=(WINSIZE/2,WINSIZE/2),mul=1,idname=\"000\",colorsystem =\"A\"):\n",
        "    global WINSIZE,figsize,dpi # この行はメモ 実際は不要\n",
        "    img = drawMandel0(center=center,mul=1,idname=idname,colorsystem = colorsystem)\n",
        "    cx,cy=int(WINSIZE/2),int(WINSIZE/2)\n",
        "\n",
        "    W,hw = WINSIZE,int(WINSIZE/mul/2)\n",
        "    imgD = img[cy-hw:cy+hw,cx-hw:cx+hw]\n",
        "    imgDX = np.array([[imgD[y//mul,x//mul] for x in range(W)] for y in range(W)],np.uint8)\n",
        "\n",
        "    fsw,fsh = figsize \n",
        "    fig = plt.figure(figsize=(2*fsw,fsh),dpi=dpi)\n",
        "    # ax = fig.add_subplot(111)\n",
        "    # ax.grid(which='both')# グリッドを表示する。\n",
        "    # plt.imshow(np.array(imgDX)[:,:,::-1])\n",
        "    # デジタル拡大された画像の保存\n",
        "    # savename1 = \"D_{}_{}-{}_s1.png\".format(idname,cx,cy)\n",
        "    savename = \"D_{}_{}-{}_s{}.png\".format(idname,cx,cy,mul)\n",
        "    # cv2.imwrite(savename1,imgD)\n",
        "    # cv2.imwrite(savename,imgDX)\n",
        "    canvas = np.ones((W,2*W,3),np.uint8)*255\n",
        "    canvas[:,W:] = imgDX \n",
        "    canvas[W//2-hw:W//2+hw,W//2-hw:W//2+hw] = imgD\n",
        "    plt.imshow(canvas[:,:,::-1])\n",
        "    cv2.imwrite(savename,canvas)\n",
        "\n",
        "    return imgD,imgDX\n",
        "\n",
        "# カラー割り当てA\n",
        "def number2ColorA(n):\n",
        "    if n < 5:\n",
        "      r,g,b = 0,0,255\n",
        "    elif n < 50:\n",
        "      r,g,b = 0,5*n,255-5*n\n",
        "    elif n < 100:\n",
        "      nr = n - 50 \n",
        "      r,g,b = 5 * nr,0,255-5*nr\n",
        "    elif n < 150:\n",
        "      nr = n - 100 \n",
        "      r,g,b = 255-5*nr,5*nr,0\n",
        "    elif n < 200:\n",
        "      nr = n - 150\n",
        "      r,g,b = 5*nr,0,255-5*nr\n",
        "    elif n < 255:\n",
        "      nr = n - 200\n",
        "      r,g,b = 220 - 4 * nr,4*nr,0\n",
        "    else:\n",
        "      r,g,b = 0,0,0\n",
        "    return (r,g,b)\n",
        "\n",
        "# カラー割り当てB\n",
        "def number2ColorB(n, base=COLORBASE):\n",
        "    d=(n % base)*256//base\n",
        "    m = d//32\n",
        "    if m == 0:\n",
        "      r,g,b = 0,6*d,255 \n",
        "    elif m == 1:\n",
        "      r,g,b = 0,255,255-6*(d-43)\n",
        "    elif m == 2:\n",
        "      r,g,b = 6*(d-86),255,0\n",
        "    elif m == 3:\n",
        "      r,g,b = 255,255-6*(d-129),0\n",
        "    elif m == 4:\n",
        "      r,g,b = 255,0,6*(d-171)\n",
        "    elif m == 5:\n",
        "      r,g,b = 255-6*(d-214),0,255\n",
        "    else:\n",
        "      r,g,b = 0,0,0\n",
        "    return (r,g,b)\n",
        "\n",
        "# カラー割り当てC\n",
        "def number2ColorC(n, base=COLORBASE):\n",
        "    d=(n % base)*256//base\n",
        "    m = d//32\n",
        "    if m == 0:\n",
        "      r,g,b = 63+6*d,63,255\n",
        "    elif m == 1:\n",
        "      r,g,b = 255,63+6*(d-32),255\n",
        "    elif m == 2:\n",
        "      r,g,b = 255-6*(d-64),255,255\n",
        "    elif m == 3:\n",
        "      r,g,b = 63,255,255-6*(d-96)\n",
        "    elif m == 4:\n",
        "      r,g,b = 63+6*(d-128),255,63\n",
        "    elif m == 5:\n",
        "      r,g,b = 255,255-6*(d-160),63\n",
        "    elif m == 6:\n",
        "      r,g,b = 255-6*(d-192),63,63\n",
        "    elif m == 7:\n",
        "      r,g,b = 63,63,63+6*(d-224)\n",
        "    else:\n",
        "      r,g,b = 0,0,0\n",
        "    return (r,g,b)"
      ],
      "execution_count": 0,
      "outputs": []
    },
    {
      "cell_type": "markdown",
      "metadata": {
        "id": "PmbT7cktjiWJ",
        "colab_type": "text"
      },
      "source": [
        "## １．標準画像の表示\n",
        "\n",
        "実験対象となるマンデルブロ集合の標準画像"
      ]
    },
    {
      "cell_type": "code",
      "metadata": {
        "id": "cw0htzcctrZc",
        "colab_type": "code",
        "colab": {}
      },
      "source": [
        "%%time\n",
        "# 実験対象となるマンデルブロ集合の標準画像\n",
        "img = drawMandel()"
      ],
      "execution_count": 0,
      "outputs": []
    },
    {
      "cell_type": "markdown",
      "metadata": {
        "id": "Ui9CaDd6kcFv",
        "colab_type": "text"
      },
      "source": [
        "### ２．拡大位置のおおまかな位置決め\n",
        "\n",
        "<img src=\"https://monosnap.com/image/3lxeKl90Y6yZWyxC4rxdRJAkJ3Sllo\" width=450></img>\n",
        "\n",
        "標準画像を見て、拡大する位置をおおまかに決める。\n",
        "\n",
        "*   一様でない、特徴的な位置を選ぶ。\n",
        "\n",
        ">このプログラムではGUIが使えませんので、目盛りとグリッドを手掛かりに位置決めしてください。何度か試行錯誤が必要になるでしょう。  \n",
        ">ここでは、仮に、(300,120) の点付近を拡大位置と決めたとして話を進めます。\n",
        "\n",
        "試しに、(300,120) を中心に、２倍に拡大してみる。（４倍でもかまわない）\n"
      ]
    },
    {
      "cell_type": "code",
      "metadata": {
        "id": "pSaEkwhzzqzp",
        "colab_type": "code",
        "colab": {}
      },
      "source": [
        "%%time\n",
        "img =  drawMandel((300,120),2.0)"
      ],
      "execution_count": 0,
      "outputs": []
    },
    {
      "cell_type": "markdown",
      "metadata": {
        "id": "8eR21Vr5pib-",
        "colab_type": "text"
      },
      "source": [
        "### ３．アナログ拡大\n",
        "\n",
        "拡大位置の座標をもっと正確に読み取って、１６倍拡大する。\n",
        "この拡大率の基準はいまの表示状態には無関係に、標準画像に対する拡大率です。"
      ]
    },
    {
      "cell_type": "code",
      "metadata": {
        "id": "w01yYMZKzuDY",
        "colab_type": "code",
        "colab": {}
      },
      "source": [
        "%%time\n",
        "img =  drawMandel((299,121),16.0)"
      ],
      "execution_count": 0,
      "outputs": []
    },
    {
      "cell_type": "markdown",
      "metadata": {
        "id": "LuV2hXVtqW5J",
        "colab_type": "text"
      },
      "source": [
        "これが、アナログ１６倍拡大画像（のシミュレーション）である。\n",
        "\n",
        "### ３．ディジタル拡大\n",
        "アナログ拡大と同じ位置（center）、同じ拡大率（mul）でディジタル拡大を実行する。\n",
        "\n",
        ">digitalResize()関数は、補間なしの純粋なディジタル拡大を行う関数としてプログラムしてある。"
      ]
    },
    {
      "cell_type": "code",
      "metadata": {
        "id": "R8AEdYeiumDq",
        "colab_type": "code",
        "colab": {}
      },
      "source": [
        "%%time\n",
        "oimg,dimg = digitalResize(center=(299,121),mul=16,idname=\"000\",colorsystem =\"A\")"
      ],
      "execution_count": 0,
      "outputs": []
    },
    {
      "cell_type": "markdown",
      "metadata": {
        "id": "E3J8AKyXEZx4",
        "colab_type": "text"
      },
      "source": [
        "\n",
        "<table border=\"1\" width=\"100%\" height=\"50\" bgcolor=orange align=\"center\"> \n",
        "<tr ><td bgcolor=orange align=\"center\" halign=\"center\"> <font size=6>【基本手順ここまで】</font></td><tr>\n",
        "</table>\n",
        "<hr>\n",
        "<hr>\n",
        "\n",
        "## 補足\n",
        "### 実行結果の画像のダウンロード\n",
        "\n",
        "実行結果は Colaboratory に一時的に保存されています。（保存されるようにプログラムしてある）\n",
        "\n",
        "<img src=\"https://monosnap.com/image/ZQsLQUd10qHjZz59YAiaD612bUitoO\" width=500>\n",
        "\n",
        "- 標準画像\n",
        "- アナログ１６倍拡大画像\n",
        "- ディジタル１６倍拡大画像\n",
        "\n",
        "は最低限必要です。ダウンロードしてレポートに挿入してください。\n",
        "\n",
        "<font color='red'>図には必ず番号とキャプションをつけ、パラメータ（中心位置、拡大率）を記載してください。</font>\n",
        "\n",
        "><font color='violet'>Colaboratoryで作ったプログラムと作業データは次のルールでリセットとなります。</font>\n",
        ">\n",
        ">- 【12時間ルール】新しいインスタンスを起動してから12時間経過したらリセット  \n",
        ">- 【90分ルール】ノートブックのセッションが切れてから90分経過したらリセット\n"
      ]
    },
    {
      "cell_type": "markdown",
      "metadata": {
        "id": "UgPUTCAqJzrl",
        "colab_type": "text"
      },
      "source": [
        "# マンデルブロー集合の画像のカラーリング\n",
        "\n",
        "マンデルブロー集合の画像の色は決まっているわけではありません。上のプログラムでは、A,B,C、三種類のカラーリングを実装してみました。\n",
        "\n",
        "デフォルトではAを使っています。"
      ]
    },
    {
      "cell_type": "code",
      "metadata": {
        "id": "qffxF7eeANiL",
        "colab_type": "code",
        "colab": {}
      },
      "source": [
        "drawMandel(colorsystem=\"B\");"
      ],
      "execution_count": 0,
      "outputs": []
    },
    {
      "cell_type": "code",
      "metadata": {
        "id": "BGWuEQBRKprw",
        "colab_type": "code",
        "colab": {}
      },
      "source": [
        "drawMandel(colorsystem=\"C\");"
      ],
      "execution_count": 0,
      "outputs": []
    },
    {
      "cell_type": "code",
      "metadata": {
        "id": "nJNzaX-IKxKx",
        "colab_type": "code",
        "colab": {}
      },
      "source": [
        "img =  drawMandel((90,160),8.0,colorsystem=\"B\")"
      ],
      "execution_count": 0,
      "outputs": []
    },
    {
      "cell_type": "code",
      "metadata": {
        "id": "RBkPtl78LS6N",
        "colab_type": "code",
        "colab": {}
      },
      "source": [
        "digitalResize((90,160),mul=8,colorsystem=\"B\");"
      ],
      "execution_count": 0,
      "outputs": []
    },
    {
      "cell_type": "code",
      "metadata": {
        "id": "8KSCAekvLfKq",
        "colab_type": "code",
        "colab": {}
      },
      "source": [
        ""
      ],
      "execution_count": 0,
      "outputs": []
    }
  ]
}